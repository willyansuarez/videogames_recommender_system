{
 "cells": [
  {
   "cell_type": "markdown",
   "metadata": {
    "colab": {
     "base_uri": "https://localhost:8080/"
    },
    "executionInfo": {
     "elapsed": 8153,
     "status": "ok",
     "timestamp": 1695294428610,
     "user": {
      "displayName": "Willian Suarez",
      "userId": "10314910963947289725"
     },
     "user_tz": 240
    },
    "id": "1AxvvTlOxcW-",
    "outputId": "4872e27a-694e-4c42-8c72-6f0b0ce39fc2"
   },
   "source": [
    "# Endpoints del 1 al 6"
   ]
  },
  {
   "cell_type": "code",
   "execution_count": 2,
   "metadata": {
    "executionInfo": {
     "elapsed": 788,
     "status": "ok",
     "timestamp": 1695294442090,
     "user": {
      "displayName": "Willian Suarez",
      "userId": "10314910963947289725"
     },
     "user_tz": 240
    },
    "id": "90HPljLHx1Y5"
   },
   "outputs": [],
   "source": [
    "import pandas as pd\n",
    "import fastparquet\n",
    "pd.set_option('display.max_columns', 500)\n",
    "# pd.set_option('display.max_colwidth', None)"
   ]
  },
  {
   "cell_type": "code",
   "execution_count": 6,
   "metadata": {
    "executionInfo": {
     "elapsed": 1467,
     "status": "ok",
     "timestamp": 1695294484489,
     "user": {
      "displayName": "Willian Suarez",
      "userId": "10314910963947289725"
     },
     "user_tz": 240
    },
    "id": "p7uDlFhu1bDl"
   },
   "outputs": [],
   "source": [
    "df_steam_games = pd.read_parquet(\"datasets/df_steam_games_2.parquet\")"
   ]
  },
  {
   "cell_type": "code",
   "execution_count": 5,
   "metadata": {
    "executionInfo": {
     "elapsed": 2410,
     "status": "ok",
     "timestamp": 1695294481634,
     "user": {
      "displayName": "Willian Suarez",
      "userId": "10314910963947289725"
     },
     "user_tz": 240
    },
    "id": "vESzXGec1mSr"
   },
   "outputs": [],
   "source": [
    "df_user_reviews = pd.read_parquet(\"datasets/df_users_reviews_2.parquet\")"
   ]
  },
  {
   "cell_type": "code",
   "execution_count": 4,
   "metadata": {
    "executionInfo": {
     "elapsed": 4797,
     "status": "ok",
     "timestamp": 1695294477895,
     "user": {
      "displayName": "Willian Suarez",
      "userId": "10314910963947289725"
     },
     "user_tz": 240
    },
    "id": "DPtpUjgs1uMN"
   },
   "outputs": [],
   "source": [
    "df_func_1 = pd.read_parquet(\"datasets/df_func_1.parquet\")"
   ]
  },
  {
   "cell_type": "code",
   "execution_count": null,
   "metadata": {},
   "outputs": [],
   "source": [
    "df_funcs_3_4 = pd.read_parquet(\"datasets/df_funcs_3_4.parquet\")"
   ]
  },
  {
   "cell_type": "code",
   "execution_count": null,
   "metadata": {},
   "outputs": [],
   "source": [
    "df_funcs_6 = pd.read_parquet(\"datasets/df_func_6.parquet\")"
   ]
  },
  {
   "cell_type": "markdown",
   "metadata": {
    "id": "ohA440sPU_iC"
   },
   "source": [
    "**1-def userdata( User_id : str ) : Debe devolver cantidad de dinero gastado por el usuario, el porcentaje de recomendación en base a reviews.recommend y cantidad de items.**"
   ]
  },
  {
   "cell_type": "code",
   "execution_count": null,
   "metadata": {
    "id": "GYNjAgZvO92M"
   },
   "outputs": [],
   "source": [
    "def userdata(user_id : str):\n",
    "    user = df_func_1[df_func_1['user_id'] == user_id]\n",
    "\n",
    "    cantidad_items = user.item_id.count()\n",
    "\n",
    "    dinero_gastado = user.price.sum()\n",
    "\n",
    "    porcentaje_recomendacion = user.recommend.mean() * 100\n",
    "\n",
    "    res = {\n",
    "        \"cantidad items\": cantidad_items,\n",
    "        \"dinero gastado\": f\"{dinero_gastado:.2f}$\",\n",
    "        \"porcentaje de recomendación\": f\"{porcentaje_recomendacion:.2f}%\",\n",
    "    }\n",
    "\n",
    "    return res"
   ]
  },
  {
   "cell_type": "code",
   "execution_count": null,
   "metadata": {
    "colab": {
     "base_uri": "https://localhost:8080/"
    },
    "executionInfo": {
     "elapsed": 3539,
     "status": "ok",
     "timestamp": 1695208920927,
     "user": {
      "displayName": "Willian Suarez",
      "userId": "10314910963947289725"
     },
     "user_tz": 240
    },
    "id": "0ynbJkR_PFwj",
    "outputId": "54188759-1148-434c-e13f-7b2d57fe014f"
   },
   "outputs": [
    {
     "name": "stdout",
     "output_type": "stream",
     "text": [
      "ingrese un id de usuario\n",
      "76561197970982479\n"
     ]
    },
    {
     "data": {
      "text/plain": [
       "{'cantidad items': 2,\n",
       " 'dinero gastado': '29.98$',\n",
       " 'porcentaje de recomendación': '100.00%'}"
      ]
     },
     "execution_count": 22,
     "metadata": {},
     "output_type": "execute_result"
    }
   ],
   "source": [
    "user = input(\"ingrese un id de usuario\\n\")\n",
    "userdata(user)"
   ]
  },
  {
   "cell_type": "markdown",
   "metadata": {
    "id": "bAZp3iJYdDc3"
   },
   "source": [
    "**2- def countreviews( YYYY-MM-DD y YYYY-MM-DD : str ) : Cantidad de usuarios que realizó reviews entre las fechas dadas y, el porcentaje de recomendación de los mismos en base a reviews.recommend.**"
   ]
  },
  {
   "cell_type": "code",
   "execution_count": null,
   "metadata": {
    "id": "OVKZOKpndGMx"
   },
   "outputs": [],
   "source": [
    "def countreviews(start_date: str, end_date: str):\n",
    "    # Filtrar las reviews por las fechas dadas\n",
    "    reviews_filtradas = df_user_reviews[(df_user_reviews['date_posted'] >= start_date) & (df_user_reviews['date_posted'] <= end_date)]\n",
    "\n",
    "    # Contar la cantidad de usuarios que realizaron reviews\n",
    "    cantidad_usuarios = reviews_filtradas['user_id'].nunique()\n",
    "\n",
    "    # Calcular el porcentaje de recomendación\n",
    "    porcentaje_recomendacion = reviews_filtradas['recommend'].mean() * 100\n",
    "\n",
    "    # Devolver la cantidad de usuarios y el porcentaje de recomendación\n",
    "\n",
    "    info = {\n",
    "        \"cantidad de usuarios\": cantidad_usuarios,\n",
    "        \"porcentaje de recomendación\": porcentaje_recomendacion\n",
    "    }\n",
    "\n",
    "    return info"
   ]
  },
  {
   "cell_type": "code",
   "execution_count": null,
   "metadata": {
    "colab": {
     "base_uri": "https://localhost:8080/"
    },
    "executionInfo": {
     "elapsed": 20307,
     "status": "ok",
     "timestamp": 1695122501665,
     "user": {
      "displayName": "Willian Suarez",
      "userId": "10314910963947289725"
     },
     "user_tz": 240
    },
    "id": "eWG2VM7EmrGO",
    "outputId": "1272b9dc-4250-4f1a-a134-9aeb6ef46d09"
   },
   "outputs": [
    {
     "name": "stdout",
     "output_type": "stream",
     "text": [
      "Ingresa la primera una fecha\n",
      "2014-06-01\n",
      "Ingresa la segunda fecha\n",
      "2014-12-31\n"
     ]
    },
    {
     "data": {
      "text/plain": [
       "{'cantidad de usuarios': 11075,\n",
       " 'porcentaje de recomendación': 87.51258811681772}"
      ]
     },
     "execution_count": 23,
     "metadata": {},
     "output_type": "execute_result"
    }
   ],
   "source": [
    "dates_reviews_1 = input(\"Ingresa la primera una fecha\\n\")\n",
    "dates_reviews_2 = input(\"Ingresa la segunda fecha\\n\")\n",
    "countreviews(dates_reviews_1, dates_reviews_2) # 2014-06-01  2014-12-31"
   ]
  },
  {
   "cell_type": "markdown",
   "metadata": {
    "id": "UJVnkM5krk9W"
   },
   "source": [
    "**3- def género( género : str ) : Devuelve el puesto en el que se encuentra un género sobre el ranking de los mismos analizados bajo la columna PlayTimeForever.**"
   ]
  },
  {
   "cell_type": "markdown",
   "metadata": {},
   "source": [
    "**Para esta función extraje una lista de géneros mas comunes de los juegos**  \n",
    "Se extrajeron 12 géneros de un aproximado de 33 "
   ]
  },
  {
   "cell_type": "code",
   "execution_count": null,
   "metadata": {
    "id": "sA7Ul7BGwAqE"
   },
   "outputs": [],
   "source": [
    "def genero(genero: str):\n",
    "    lista_gen = [\n",
    "        'RPG', 'Sports', 'Simulation', 'Action', 'Strategy', 'Indie',\n",
    "        'Casual', 'Utilities', 'Adventure', 'Racing', 'Education', 'Simulation',\n",
    "    ]\n",
    "    generos_suma = {}  # Diccionario para almacenar los géneros y sus sumas\n",
    "\n",
    "    for g in lista_gen:\n",
    "        x = df_funcs_3_4[df_funcs_3_4.genres.str.contains(g)]\n",
    "        suma = x.playtime_forever.sum()\n",
    "        generos_suma[g] = suma\n",
    "\n",
    "    generos_ordenados = sorted(generos_suma.items(), key=lambda x: x[1], reverse=True)\n",
    "    generos_ordenados_dict = dict(generos_ordenados)\n",
    "\n",
    "    puesto = list(generos_ordenados_dict.keys()).index(genero) + 1\n",
    "\n",
    "    return {\"puesto\": puesto}"
   ]
  },
  {
   "cell_type": "code",
   "execution_count": null,
   "metadata": {
    "colab": {
     "base_uri": "https://localhost:8080/"
    },
    "executionInfo": {
     "elapsed": 9475,
     "status": "ok",
     "timestamp": 1695256195808,
     "user": {
      "displayName": "Willian Suarez",
      "userId": "10314910963947289725"
     },
     "user_tz": 240
    },
    "id": "ZAaAmjUKey4g",
    "outputId": "8e542491-9c7b-46f4-b89b-9df49df54490"
   },
   "outputs": [
    {
     "name": "stdout",
     "output_type": "stream",
     "text": [
      "ingresa un género\n",
      "Adventure\n"
     ]
    },
    {
     "data": {
      "text/plain": [
       "{'puesto': 5}"
      ]
     },
     "execution_count": 200,
     "metadata": {},
     "output_type": "execute_result"
    }
   ],
   "source": [
    "# gen = \"Action\"\n",
    "gen = input(\"ingresa un género\\n\")\n",
    "genero(gen)"
   ]
  },
  {
   "cell_type": "markdown",
   "metadata": {
    "id": "KEstLJV-EEXo"
   },
   "source": [
    "**4-def userforgenre( género : str ): Top 5 de usuarios con más horas de juego en el género dado, con su URL (del user) y user_id.**"
   ]
  },
  {
   "cell_type": "code",
   "execution_count": null,
   "metadata": {
    "id": "nJAQBF-rGu8j"
   },
   "outputs": [],
   "source": [
    "def userforgenre(genero: str):\n",
    "    # Filtrar el dataframe por el género especificado\n",
    "    df_filtered = df_funcs_3_4[df_funcs_3_4['genres'].str.contains(genero, case=False, regex=False)]\n",
    "\n",
    "    # Agrupar por usuario y calcular las horas totales de juego\n",
    "    df_grouped = df_filtered.groupby(['user_id', 'user_url']).agg({'playtime_forever': 'sum'}).reset_index()\n",
    "\n",
    "    # Ordenar por las horas totales de juego de forma descendente\n",
    "    df_sorted = df_grouped.sort_values('playtime_forever', ascending=False)\n",
    "\n",
    "    # Tomar los primeros 5 usuarios\n",
    "    top_5_users = df_sorted.head(5)\n",
    "\n",
    "    # Crear una lista de diccionarios con la información de cada usuario\n",
    "    results = [{'user_id': row['user_id'], 'user_url': row['user_url'], 'playtime_forever': row['playtime_forever']} for _, row in top_5_users.iterrows()]\n",
    "\n",
    "    # Retornar la lista de diccionarios resultante\n",
    "    return results\n"
   ]
  },
  {
   "cell_type": "code",
   "execution_count": null,
   "metadata": {
    "colab": {
     "base_uri": "https://localhost:8080/"
    },
    "executionInfo": {
     "elapsed": 5734,
     "status": "ok",
     "timestamp": 1695135618788,
     "user": {
      "displayName": "Willian Suarez",
      "userId": "10314910963947289725"
     },
     "user_tz": 240
    },
    "id": "yrczDdLkG8UM",
    "outputId": "55afd21a-ea53-47d5-b722-e03d8fa8145c"
   },
   "outputs": [
    {
     "name": "stdout",
     "output_type": "stream",
     "text": [
      "Ingresa el género del juego para ver el Top 5\n",
      "Racing\n"
     ]
    },
    {
     "data": {
      "text/plain": [
       "[{'user_id': '76561198015968484',\n",
       "  'user_url': 'http://steamcommunity.com/profiles/76561198015968484',\n",
       "  'playtime_forever': 15859.0},\n",
       " {'user_id': '76561198057391954',\n",
       "  'user_url': 'http://steamcommunity.com/profiles/76561198057391954',\n",
       "  'playtime_forever': 14504.0},\n",
       " {'user_id': 'jubjub727',\n",
       "  'user_url': 'http://steamcommunity.com/id/jubjub727',\n",
       "  'playtime_forever': 12183.0},\n",
       " {'user_id': 'tehaznshow',\n",
       "  'user_url': 'http://steamcommunity.com/id/tehaznshow',\n",
       "  'playtime_forever': 10127.0},\n",
       " {'user_id': 'givemeabong',\n",
       "  'user_url': 'http://steamcommunity.com/id/givemeabong',\n",
       "  'playtime_forever': 9748.0}]"
      ]
     },
     "execution_count": 85,
     "metadata": {},
     "output_type": "execute_result"
    }
   ],
   "source": [
    "top_gen = input(\"Ingresa el género del juego para ver el Top 5\\n\")\n",
    "userforgenre(top_gen)"
   ]
  },
  {
   "cell_type": "markdown",
   "metadata": {
    "id": "5WZQNf8nNTE_"
   },
   "source": [
    "**5-def developer( desarrollador : str ): Cantidad de\n",
    " items y porcentaje de contenido Free por año según\n",
    "  empresa desarrolladora. Ejemplo de salida:\n",
    "Activision  \n",
    "Año     Contenido Free  \n",
    "2023    27%  \n",
    "2022    25%  \n",
    "xxxx    xx%**"
   ]
  },
  {
   "cell_type": "code",
   "execution_count": null,
   "metadata": {
    "id": "KzfVGQ4vMX9u"
   },
   "outputs": [],
   "source": [
    "def developer(desarrollador: str):\n",
    "    # Filtrar el dataframe por la empresa desarrolladora\n",
    "    df_filtered = df_steam_games[df_steam_games['developer'] == desarrollador]\n",
    "\n",
    "    # Calcular la cantidad de items gratuitos por año\n",
    "    free_items_by_year = df_filtered[df_filtered['price'] == 0].groupby('year').size()\n",
    "\n",
    "    # Calcular el total de items por año\n",
    "    total_items_by_year = df_filtered.groupby('year').size()\n",
    "\n",
    "    # Calcular el porcentaje de contenido gratuito por año\n",
    "    free_percentage_by_year = (free_items_by_year / total_items_by_year) * 100\n",
    "\n",
    "    # Reemplazar los valores NaN por 0\n",
    "    free_percentage_by_year = free_percentage_by_year.fillna(0)\n",
    "\n",
    "    # Crear el diccionario de resultados\n",
    "    results = dict(zip(free_percentage_by_year.index, free_percentage_by_year.values))\n",
    "\n",
    "    # Retornar el diccionario resultante\n",
    "    return results"
   ]
  },
  {
   "cell_type": "code",
   "execution_count": null,
   "metadata": {
    "colab": {
     "base_uri": "https://localhost:8080/"
    },
    "executionInfo": {
     "elapsed": 3404,
     "status": "ok",
     "timestamp": 1695137565489,
     "user": {
      "displayName": "Willian Suarez",
      "userId": "10314910963947289725"
     },
     "user_tz": 240
    },
    "id": "Mp4ngT-lNvMc",
    "outputId": "2f70bd3a-1d86-4245-9a6d-740be6d0a339"
   },
   "outputs": [
    {
     "name": "stdout",
     "output_type": "stream",
     "text": [
      "Ingresa una empresa desarrolladora\n",
      "FireFly Studios\n"
     ]
    },
    {
     "data": {
      "text/plain": [
       "{2001: 0.0,\n",
       " 2002: 0.0,\n",
       " 2009: 0.0,\n",
       " 2012: 33.33333333333333,\n",
       " 2014: 0.0,\n",
       " 2015: 0.0,\n",
       " 2017: 50.0}"
      ]
     },
     "execution_count": 120,
     "metadata": {},
     "output_type": "execute_result"
    }
   ],
   "source": [
    "dev = input(\"Ingresa una empresa desarrolladora\\n\")\n",
    "developer(dev) # Valve, IPACS, FireFly Studios"
   ]
  },
  {
   "cell_type": "markdown",
   "metadata": {
    "id": "mUDkKKnkNwOj"
   },
   "source": [
    "**6-def sentiment_analysis( año : int ): Según el año de lanzamiento, se devuelve una lista con la cantidad de registros de reseñas de usuarios que se encuentren categorizados con un análisis de sentimiento.\n",
    "Ejemplo de retorno: {Negative = 182, Neutral = 120, Positive = 278}**"
   ]
  },
  {
   "cell_type": "code",
   "execution_count": null,
   "metadata": {
    "id": "0QMQKLONN-Hr"
   },
   "outputs": [],
   "source": [
    "def sentiment_analysis(anio: int):\n",
    "    # Filtrar el dataframe por el año de lanzamiento especificado\n",
    "    df_filtered = df_func_6[df_func_6['year'] == anio]\n",
    "\n",
    "    # Contar la cantidad de registros de reseñas por categoría de sentimiento\n",
    "    sentiment_counts = df_filtered['sentiment'].value_counts().to_dict()\n",
    "\n",
    "    # Retornar el diccionario con la cantidad de registros por categoría de sentimiento\n",
    "    return sentiment_counts"
   ]
  },
  {
   "cell_type": "code",
   "execution_count": null,
   "metadata": {
    "colab": {
     "base_uri": "https://localhost:8080/"
    },
    "executionInfo": {
     "elapsed": 2967,
     "status": "ok",
     "timestamp": 1695139921628,
     "user": {
      "displayName": "Willian Suarez",
      "userId": "10314910963947289725"
     },
     "user_tz": 240
    },
    "id": "4RUOyzhaJ1pQ",
    "outputId": "54295f5a-679b-4a68-a230-27e170cf4385"
   },
   "outputs": [
    {
     "name": "stdout",
     "output_type": "stream",
     "text": [
      "Ingresa un año\n",
      "2023\n"
     ]
    },
    {
     "data": {
      "text/plain": [
       "{}"
      ]
     },
     "execution_count": 151,
     "metadata": {},
     "output_type": "execute_result"
    }
   ],
   "source": [
    "anio = int(input(\"Ingresa un año\\n\"))\n",
    "sentiment_analysis(anio)"
   ]
  }
 ],
 "metadata": {
  "colab": {
   "authorship_tag": "ABX9TyORDLviXtyCaMdEHVoWC+WH",
   "provenance": []
  },
  "kernelspec": {
   "display_name": "Python 3 (ipykernel)",
   "language": "python",
   "name": "python3"
  },
  "language_info": {
   "codemirror_mode": {
    "name": "ipython",
    "version": 3
   },
   "file_extension": ".py",
   "mimetype": "text/x-python",
   "name": "python",
   "nbconvert_exporter": "python",
   "pygments_lexer": "ipython3",
   "version": "3.10.12"
  }
 },
 "nbformat": 4,
 "nbformat_minor": 4
}
