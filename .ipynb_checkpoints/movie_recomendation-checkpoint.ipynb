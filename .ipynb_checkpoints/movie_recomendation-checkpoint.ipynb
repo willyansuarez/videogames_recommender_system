{
 "cells": [
  {
   "cell_type": "code",
   "execution_count": 1,
   "id": "3bbdbbe6",
   "metadata": {},
   "outputs": [],
   "source": [
    "# carga de librerías\n",
    "import numpy as np\n",
    "import pandas as pd\n",
    "from ast import literal_eval\n",
    "import datetime as dt\n",
    "# import matplotlib.pyplot as plt\n",
    "# import missingno as msno"
   ]
  },
  {
   "cell_type": "code",
   "execution_count": 2,
   "id": "1456517e",
   "metadata": {},
   "outputs": [],
   "source": [
    "movies = pd.read_csv(\"datasets/movies_dataset.csv\", low_memory=False)\n",
    "credits = pd.read_csv(\"datasets/credits.csv\")"
   ]
  },
  {
   "cell_type": "code",
   "execution_count": 3,
   "id": "aea5ba1d",
   "metadata": {},
   "outputs": [
    {
     "data": {
      "text/html": [
       "<div>\n",
       "<style scoped>\n",
       "    .dataframe tbody tr th:only-of-type {\n",
       "        vertical-align: middle;\n",
       "    }\n",
       "\n",
       "    .dataframe tbody tr th {\n",
       "        vertical-align: top;\n",
       "    }\n",
       "\n",
       "    .dataframe thead th {\n",
       "        text-align: right;\n",
       "    }\n",
       "</style>\n",
       "<table border=\"1\" class=\"dataframe\">\n",
       "  <thead>\n",
       "    <tr style=\"text-align: right;\">\n",
       "      <th></th>\n",
       "      <th>adult</th>\n",
       "      <th>belongs_to_collection</th>\n",
       "      <th>budget</th>\n",
       "      <th>genres</th>\n",
       "      <th>homepage</th>\n",
       "      <th>id</th>\n",
       "      <th>imdb_id</th>\n",
       "      <th>original_language</th>\n",
       "      <th>original_title</th>\n",
       "      <th>overview</th>\n",
       "      <th>...</th>\n",
       "      <th>release_date</th>\n",
       "      <th>revenue</th>\n",
       "      <th>runtime</th>\n",
       "      <th>spoken_languages</th>\n",
       "      <th>status</th>\n",
       "      <th>tagline</th>\n",
       "      <th>title</th>\n",
       "      <th>video</th>\n",
       "      <th>vote_average</th>\n",
       "      <th>vote_count</th>\n",
       "    </tr>\n",
       "  </thead>\n",
       "  <tbody>\n",
       "    <tr>\n",
       "      <th>0</th>\n",
       "      <td>False</td>\n",
       "      <td>{'id': 10194, 'name': 'Toy Story Collection', ...</td>\n",
       "      <td>30000000</td>\n",
       "      <td>[{'id': 16, 'name': 'Animation'}, {'id': 35, '...</td>\n",
       "      <td>http://toystory.disney.com/toy-story</td>\n",
       "      <td>862</td>\n",
       "      <td>tt0114709</td>\n",
       "      <td>en</td>\n",
       "      <td>Toy Story</td>\n",
       "      <td>Led by Woody, Andy's toys live happily in his ...</td>\n",
       "      <td>...</td>\n",
       "      <td>1995-10-30</td>\n",
       "      <td>373554033.0</td>\n",
       "      <td>81.0</td>\n",
       "      <td>[{'iso_639_1': 'en', 'name': 'English'}]</td>\n",
       "      <td>Released</td>\n",
       "      <td>NaN</td>\n",
       "      <td>Toy Story</td>\n",
       "      <td>False</td>\n",
       "      <td>7.7</td>\n",
       "      <td>5415.0</td>\n",
       "    </tr>\n",
       "  </tbody>\n",
       "</table>\n",
       "<p>1 rows × 24 columns</p>\n",
       "</div>"
      ],
      "text/plain": [
       "   adult                              belongs_to_collection    budget  \\\n",
       "0  False  {'id': 10194, 'name': 'Toy Story Collection', ...  30000000   \n",
       "\n",
       "                                              genres  \\\n",
       "0  [{'id': 16, 'name': 'Animation'}, {'id': 35, '...   \n",
       "\n",
       "                               homepage   id    imdb_id original_language  \\\n",
       "0  http://toystory.disney.com/toy-story  862  tt0114709                en   \n",
       "\n",
       "  original_title                                           overview  ...  \\\n",
       "0      Toy Story  Led by Woody, Andy's toys live happily in his ...  ...   \n",
       "\n",
       "  release_date      revenue runtime                          spoken_languages  \\\n",
       "0   1995-10-30  373554033.0    81.0  [{'iso_639_1': 'en', 'name': 'English'}]   \n",
       "\n",
       "     status  tagline      title  video vote_average vote_count  \n",
       "0  Released      NaN  Toy Story  False          7.7     5415.0  \n",
       "\n",
       "[1 rows x 24 columns]"
      ]
     },
     "execution_count": 3,
     "metadata": {},
     "output_type": "execute_result"
    }
   ],
   "source": [
    "movies.head(1)"
   ]
  },
  {
   "cell_type": "code",
   "execution_count": 4,
   "id": "5c8534f5",
   "metadata": {},
   "outputs": [
    {
     "data": {
      "text/html": [
       "<div>\n",
       "<style scoped>\n",
       "    .dataframe tbody tr th:only-of-type {\n",
       "        vertical-align: middle;\n",
       "    }\n",
       "\n",
       "    .dataframe tbody tr th {\n",
       "        vertical-align: top;\n",
       "    }\n",
       "\n",
       "    .dataframe thead th {\n",
       "        text-align: right;\n",
       "    }\n",
       "</style>\n",
       "<table border=\"1\" class=\"dataframe\">\n",
       "  <thead>\n",
       "    <tr style=\"text-align: right;\">\n",
       "      <th></th>\n",
       "      <th>cast</th>\n",
       "      <th>crew</th>\n",
       "      <th>id</th>\n",
       "    </tr>\n",
       "  </thead>\n",
       "  <tbody>\n",
       "    <tr>\n",
       "      <th>0</th>\n",
       "      <td>[{'cast_id': 14, 'character': 'Woody (voice)',...</td>\n",
       "      <td>[{'credit_id': '52fe4284c3a36847f8024f49', 'de...</td>\n",
       "      <td>862</td>\n",
       "    </tr>\n",
       "  </tbody>\n",
       "</table>\n",
       "</div>"
      ],
      "text/plain": [
       "                                                cast  \\\n",
       "0  [{'cast_id': 14, 'character': 'Woody (voice)',...   \n",
       "\n",
       "                                                crew   id  \n",
       "0  [{'credit_id': '52fe4284c3a36847f8024f49', 'de...  862  "
      ]
     },
     "execution_count": 4,
     "metadata": {},
     "output_type": "execute_result"
    }
   ],
   "source": [
    "credits.head(1)\n",
    "# credits[\"cast\"]\n",
    "# credits[\"cast\"][0]"
   ]
  },
  {
   "cell_type": "code",
   "execution_count": 5,
   "id": "0bc78558",
   "metadata": {},
   "outputs": [],
   "source": [
    "# función para obtener datos varios de los dataframe(info, describe, null, duplicated)\n",
    "def print_df_info(df):\n",
    "    \n",
    "    print(\"** Info - Información general **\")\n",
    "    print(df.info())\n",
    "\n",
    "    print(\"=======================================================\")\n",
    "\n",
    "    print(\"** Shape **\")\n",
    "    print(f\"Filas: {df.shape[0]} - Columnas: {df.shape[1]}\")\n",
    "\n",
    "    print(\"=======================================================\")\n",
    "\n",
    "    print(\"** Describe - Estadísticas resumidas **\")\n",
    "    print(df.describe().T)\n",
    "\n",
    "    print(\"=======================================================\")\n",
    "\n",
    "    print(\"** NaN - Nulos **\")\n",
    "    print(df.isna().sum())\n",
    "\n",
    "    print(\"=======================================================\")\n",
    "    print(\"** Duplicated - Duplicados **\")\n",
    "    print(df.duplicated().sum())"
   ]
  },
  {
   "cell_type": "code",
   "execution_count": 6,
   "id": "af43ed27",
   "metadata": {},
   "outputs": [
    {
     "name": "stdout",
     "output_type": "stream",
     "text": [
      "** Info - Información general **\n",
      "<class 'pandas.core.frame.DataFrame'>\n",
      "RangeIndex: 45466 entries, 0 to 45465\n",
      "Data columns (total 24 columns):\n",
      " #   Column                 Non-Null Count  Dtype  \n",
      "---  ------                 --------------  -----  \n",
      " 0   adult                  45466 non-null  object \n",
      " 1   belongs_to_collection  4494 non-null   object \n",
      " 2   budget                 45466 non-null  object \n",
      " 3   genres                 45466 non-null  object \n",
      " 4   homepage               7782 non-null   object \n",
      " 5   id                     45466 non-null  object \n",
      " 6   imdb_id                45449 non-null  object \n",
      " 7   original_language      45455 non-null  object \n",
      " 8   original_title         45466 non-null  object \n",
      " 9   overview               44512 non-null  object \n",
      " 10  popularity             45461 non-null  object \n",
      " 11  poster_path            45080 non-null  object \n",
      " 12  production_companies   45463 non-null  object \n",
      " 13  production_countries   45463 non-null  object \n",
      " 14  release_date           45379 non-null  object \n",
      " 15  revenue                45460 non-null  float64\n",
      " 16  runtime                45203 non-null  float64\n",
      " 17  spoken_languages       45460 non-null  object \n",
      " 18  status                 45379 non-null  object \n",
      " 19  tagline                20412 non-null  object \n",
      " 20  title                  45460 non-null  object \n",
      " 21  video                  45460 non-null  object \n",
      " 22  vote_average           45460 non-null  float64\n",
      " 23  vote_count             45460 non-null  float64\n",
      "dtypes: float64(4), object(20)\n",
      "memory usage: 8.3+ MB\n",
      "None\n",
      "=======================================================\n",
      "** Shape **\n",
      "Filas: 45466 - Columnas: 24\n",
      "=======================================================\n",
      "** Describe - Estadísticas resumidas **\n",
      "                count          mean           std  min   25%   50%    75%  \\\n",
      "revenue       45460.0  1.120935e+07  6.433225e+07  0.0   0.0   0.0    0.0   \n",
      "runtime       45203.0  9.412820e+01  3.840781e+01  0.0  85.0  95.0  107.0   \n",
      "vote_average  45460.0  5.618207e+00  1.924216e+00  0.0   5.0   6.0    6.8   \n",
      "vote_count    45460.0  1.098973e+02  4.913104e+02  0.0   3.0  10.0   34.0   \n",
      "\n",
      "                       max  \n",
      "revenue       2.787965e+09  \n",
      "runtime       1.256000e+03  \n",
      "vote_average  1.000000e+01  \n",
      "vote_count    1.407500e+04  \n",
      "=======================================================\n",
      "** NaN - Nulos **\n",
      "adult                        0\n",
      "belongs_to_collection    40972\n",
      "budget                       0\n",
      "genres                       0\n",
      "homepage                 37684\n",
      "id                           0\n",
      "imdb_id                     17\n",
      "original_language           11\n",
      "original_title               0\n",
      "overview                   954\n",
      "popularity                   5\n",
      "poster_path                386\n",
      "production_companies         3\n",
      "production_countries         3\n",
      "release_date                87\n",
      "revenue                      6\n",
      "runtime                    263\n",
      "spoken_languages             6\n",
      "status                      87\n",
      "tagline                  25054\n",
      "title                        6\n",
      "video                        6\n",
      "vote_average                 6\n",
      "vote_count                   6\n",
      "dtype: int64\n",
      "=======================================================\n",
      "** Duplicated - Duplicados **\n",
      "17\n"
     ]
    }
   ],
   "source": [
    "print_df_info(movies)"
   ]
  },
  {
   "cell_type": "code",
   "execution_count": 7,
   "id": "ce7d4497",
   "metadata": {},
   "outputs": [
    {
     "name": "stdout",
     "output_type": "stream",
     "text": [
      "** Info - Información general **\n",
      "<class 'pandas.core.frame.DataFrame'>\n",
      "RangeIndex: 45476 entries, 0 to 45475\n",
      "Data columns (total 3 columns):\n",
      " #   Column  Non-Null Count  Dtype \n",
      "---  ------  --------------  ----- \n",
      " 0   cast    45476 non-null  object\n",
      " 1   crew    45476 non-null  object\n",
      " 2   id      45476 non-null  int64 \n",
      "dtypes: int64(1), object(2)\n",
      "memory usage: 1.0+ MB\n",
      "None\n",
      "=======================================================\n",
      "** Shape **\n",
      "Filas: 45476 - Columnas: 3\n",
      "=======================================================\n",
      "** Describe - Estadísticas resumidas **\n",
      "      count           mean            std  min       25%      50%       75%  \\\n",
      "id  45476.0  108345.997537  112443.796536  2.0  26443.25  60002.5  157302.0   \n",
      "\n",
      "         max  \n",
      "id  469172.0  \n",
      "=======================================================\n",
      "** NaN - Nulos **\n",
      "cast    0\n",
      "crew    0\n",
      "id      0\n",
      "dtype: int64\n",
      "=======================================================\n",
      "** Duplicated - Duplicados **\n",
      "37\n"
     ]
    }
   ],
   "source": [
    "print_df_info(credits)"
   ]
  },
  {
   "cell_type": "markdown",
   "id": "05a7a1d6",
   "metadata": {},
   "source": [
    "**Transformaciones**\n",
    "* Eliminar las columnas que no serán utilizadas:   \n",
    "video, imdb_id, adult, original_title, poster_path y homepage."
   ]
  },
  {
   "cell_type": "code",
   "execution_count": 8,
   "id": "5c7617a2",
   "metadata": {},
   "outputs": [],
   "source": [
    "# eliminar columnas\n",
    "movies.drop([\"adult\", \"homepage\", \"imdb_id\", \"original_title\", \"popularity\", \"poster_path\", \"spoken_languages\", \"status\", \"video\", \"vote_average\", \"vote_count\"], axis=1, inplace=True)"
   ]
  },
  {
   "cell_type": "code",
   "execution_count": 9,
   "id": "25e5d755",
   "metadata": {},
   "outputs": [
    {
     "data": {
      "text/plain": [
       "Index(['belongs_to_collection', 'budget', 'genres', 'id', 'original_language',\n",
       "       'overview', 'production_companies', 'production_countries',\n",
       "       'release_date', 'revenue', 'runtime', 'tagline', 'title'],\n",
       "      dtype='object')"
      ]
     },
     "execution_count": 9,
     "metadata": {},
     "output_type": "execute_result"
    }
   ],
   "source": [
    "# visualizar columnas restantes\n",
    "movies.columns"
   ]
  },
  {
   "cell_type": "markdown",
   "id": "d651d171",
   "metadata": {},
   "source": [
    "* **Los valores nulos de los campos revenue, budget deben ser rellenados por el número 0.**"
   ]
  },
  {
   "cell_type": "code",
   "execution_count": 10,
   "id": "039e95ee",
   "metadata": {},
   "outputs": [],
   "source": [
    "# eliminar los duplicados\n",
    "movies.drop_duplicates(inplace=True)\n",
    "credits.drop_duplicates(inplace=True)"
   ]
  },
  {
   "cell_type": "code",
   "execution_count": 11,
   "id": "3843273b",
   "metadata": {},
   "outputs": [],
   "source": [
    "movies[\"budget\"] = movies[\"budget\"].fillna(0)\n",
    "movies[\"revenue\"] = movies[\"revenue\"].fillna(0)"
   ]
  },
  {
   "cell_type": "markdown",
   "id": "c27610d5",
   "metadata": {},
   "source": [
    "Crear la columna con el retorno de inversión, llamada **`return`** con los campos **`revenue`** y **`budget`**, dividiendo estas dos últimas **`revenue / budget`**, cuando no hay datos disponibles para calcularlo, deberá tomar el valor **`0`**.  \n",
    "Este paso arroja un error ya que la columna budget es de tipo object y revenue es de tipo float, por lo  \n",
    "que se procedió a cambiar el tipo de dato, paso que también arroja un error porque algunos campos de la columna budget contienen caracteres y números combinados.  \n",
    "Para solucionar esto se creó una función que devuelva que campos son solo números, solo letras o combinados, luego dependiendo de la cantidad de filas con el problema se procede a eliminarlas."
   ]
  },
  {
   "cell_type": "code",
   "execution_count": 12,
   "id": "e517367f",
   "metadata": {},
   "outputs": [
    {
     "name": "stdout",
     "output_type": "stream",
     "text": [
      "object\n",
      "float64\n"
     ]
    }
   ],
   "source": [
    "# determino los tipos de datos\n",
    "print(movies.budget.dtype)\n",
    "print(movies.revenue.dtype)"
   ]
  },
  {
   "cell_type": "code",
   "execution_count": 13,
   "id": "9752dbe8",
   "metadata": {},
   "outputs": [],
   "source": [
    "# función para determinar cuantas filas de la columna id de movies tienen caracteres, números\n",
    "# o una combinación de ambos\n",
    "def get_column_type(str):\n",
    "  if str.isdigit():\n",
    "    return \"numbers\"\n",
    "  elif str.isalpha():\n",
    "    return \"characters\"\n",
    "  else:\n",
    "    return \"mixed\""
   ]
  },
  {
   "cell_type": "code",
   "execution_count": 14,
   "id": "8e230ef8",
   "metadata": {},
   "outputs": [],
   "source": [
    "# aplicar la función sobre la columna y el resultado en una nueva columna\n",
    "movies[\"types\"] = movies[\"budget\"].apply(get_column_type)"
   ]
  },
  {
   "cell_type": "code",
   "execution_count": 15,
   "id": "9721d8fd",
   "metadata": {},
   "outputs": [
    {
     "data": {
      "text/plain": [
       "belongs_to_collection    3\n",
       "budget                   3\n",
       "genres                   3\n",
       "id                       3\n",
       "original_language        3\n",
       "overview                 3\n",
       "production_companies     3\n",
       "production_countries     3\n",
       "release_date             3\n",
       "revenue                  3\n",
       "runtime                  0\n",
       "tagline                  0\n",
       "title                    0\n",
       "types                    3\n",
       "dtype: int64"
      ]
     },
     "execution_count": 15,
     "metadata": {},
     "output_type": "execute_result"
    }
   ],
   "source": [
    "# visualizo la cantidad de filas con caracteres o con caracteres y números combinados\n",
    "# en este caso chequeo characters y mixed\n",
    "# movies[movies[\"types\"] == \"characters\"].count()\n",
    "movies[movies[\"types\"] == \"mixed\"].count()\n",
    "# movies[movies[\"types\"] == \"numbers\"].count()"
   ]
  },
  {
   "cell_type": "code",
   "execution_count": 16,
   "id": "6bf17293",
   "metadata": {},
   "outputs": [
    {
     "data": {
      "text/html": [
       "<div>\n",
       "<style scoped>\n",
       "    .dataframe tbody tr th:only-of-type {\n",
       "        vertical-align: middle;\n",
       "    }\n",
       "\n",
       "    .dataframe tbody tr th {\n",
       "        vertical-align: top;\n",
       "    }\n",
       "\n",
       "    .dataframe thead th {\n",
       "        text-align: right;\n",
       "    }\n",
       "</style>\n",
       "<table border=\"1\" class=\"dataframe\">\n",
       "  <thead>\n",
       "    <tr style=\"text-align: right;\">\n",
       "      <th></th>\n",
       "      <th>belongs_to_collection</th>\n",
       "      <th>budget</th>\n",
       "      <th>genres</th>\n",
       "      <th>id</th>\n",
       "      <th>original_language</th>\n",
       "      <th>overview</th>\n",
       "      <th>production_companies</th>\n",
       "      <th>production_countries</th>\n",
       "      <th>release_date</th>\n",
       "      <th>revenue</th>\n",
       "      <th>runtime</th>\n",
       "      <th>tagline</th>\n",
       "      <th>title</th>\n",
       "      <th>types</th>\n",
       "    </tr>\n",
       "  </thead>\n",
       "  <tbody>\n",
       "    <tr>\n",
       "      <th>19730</th>\n",
       "      <td>0.065736</td>\n",
       "      <td>/ff9qCepilowshEtG2GYWwzt2bs4.jpg</td>\n",
       "      <td>[{'name': 'Carousel Productions', 'id': 11176}...</td>\n",
       "      <td>1997-08-20</td>\n",
       "      <td>104.0</td>\n",
       "      <td>Released</td>\n",
       "      <td>False</td>\n",
       "      <td>6.0</td>\n",
       "      <td>1</td>\n",
       "      <td>0.0</td>\n",
       "      <td>NaN</td>\n",
       "      <td>NaN</td>\n",
       "      <td>NaN</td>\n",
       "      <td>mixed</td>\n",
       "    </tr>\n",
       "    <tr>\n",
       "      <th>29503</th>\n",
       "      <td>1.931659</td>\n",
       "      <td>/zV8bHuSL6WXoD6FWogP9j4x80bL.jpg</td>\n",
       "      <td>[{'name': 'Aniplex', 'id': 2883}, {'name': 'Go...</td>\n",
       "      <td>2012-09-29</td>\n",
       "      <td>68.0</td>\n",
       "      <td>Released</td>\n",
       "      <td>False</td>\n",
       "      <td>7.0</td>\n",
       "      <td>12</td>\n",
       "      <td>0.0</td>\n",
       "      <td>NaN</td>\n",
       "      <td>NaN</td>\n",
       "      <td>NaN</td>\n",
       "      <td>mixed</td>\n",
       "    </tr>\n",
       "    <tr>\n",
       "      <th>35587</th>\n",
       "      <td>2.185485</td>\n",
       "      <td>/zaSf5OG7V8X8gqFvly88zDdRm46.jpg</td>\n",
       "      <td>[{'name': 'Odyssey Media', 'id': 17161}, {'nam...</td>\n",
       "      <td>2014-01-01</td>\n",
       "      <td>82.0</td>\n",
       "      <td>Released</td>\n",
       "      <td>False</td>\n",
       "      <td>4.3</td>\n",
       "      <td>22</td>\n",
       "      <td>0.0</td>\n",
       "      <td>NaN</td>\n",
       "      <td>NaN</td>\n",
       "      <td>NaN</td>\n",
       "      <td>mixed</td>\n",
       "    </tr>\n",
       "  </tbody>\n",
       "</table>\n",
       "</div>"
      ],
      "text/plain": [
       "      belongs_to_collection                            budget  \\\n",
       "19730              0.065736  /ff9qCepilowshEtG2GYWwzt2bs4.jpg   \n",
       "29503              1.931659  /zV8bHuSL6WXoD6FWogP9j4x80bL.jpg   \n",
       "35587              2.185485  /zaSf5OG7V8X8gqFvly88zDdRm46.jpg   \n",
       "\n",
       "                                                  genres          id  \\\n",
       "19730  [{'name': 'Carousel Productions', 'id': 11176}...  1997-08-20   \n",
       "29503  [{'name': 'Aniplex', 'id': 2883}, {'name': 'Go...  2012-09-29   \n",
       "35587  [{'name': 'Odyssey Media', 'id': 17161}, {'nam...  2014-01-01   \n",
       "\n",
       "      original_language  overview production_companies production_countries  \\\n",
       "19730             104.0  Released                False                  6.0   \n",
       "29503              68.0  Released                False                  7.0   \n",
       "35587              82.0  Released                False                  4.3   \n",
       "\n",
       "      release_date  revenue  runtime tagline title  types  \n",
       "19730            1      0.0      NaN     NaN   NaN  mixed  \n",
       "29503           12      0.0      NaN     NaN   NaN  mixed  \n",
       "35587           22      0.0      NaN     NaN   NaN  mixed  "
      ]
     },
     "execution_count": 16,
     "metadata": {},
     "output_type": "execute_result"
    }
   ],
   "source": [
    "# visualizo las filas específicas\n",
    "movies[movies[\"types\"] == \"mixed\"]"
   ]
  },
  {
   "cell_type": "code",
   "execution_count": 17,
   "id": "dc72ae5c",
   "metadata": {},
   "outputs": [],
   "source": [
    "# elimino los tres(3) registros por id.\n",
    "movies = movies.drop([19730, 29503, 35587])"
   ]
  },
  {
   "cell_type": "code",
   "execution_count": 18,
   "id": "62727ea4",
   "metadata": {},
   "outputs": [],
   "source": [
    "# una vez eliminados se convierte el tipo de dato\n",
    "movies[\"budget\"] = movies[\"budget\"].astype('float')"
   ]
  },
  {
   "cell_type": "code",
   "execution_count": 19,
   "id": "dcfdd494",
   "metadata": {},
   "outputs": [
    {
     "name": "stdout",
     "output_type": "stream",
     "text": [
      "float64\n"
     ]
    }
   ],
   "source": [
    "print(movies.budget.dtype)"
   ]
  },
  {
   "cell_type": "code",
   "execution_count": 20,
   "id": "3d2117f1",
   "metadata": {},
   "outputs": [
    {
     "data": {
      "text/plain": [
       "0        12.451801\n",
       "1         4.043035\n",
       "2              NaN\n",
       "3         5.090760\n",
       "4              NaN\n",
       "           ...    \n",
       "45461          NaN\n",
       "45462          NaN\n",
       "45463          NaN\n",
       "45464          NaN\n",
       "45465          NaN\n",
       "Name: return, Length: 45433, dtype: float64"
      ]
     },
     "execution_count": 20,
     "metadata": {},
     "output_type": "execute_result"
    }
   ],
   "source": [
    "# Crear la columna con el retorno de inversión, llamada return con los campos revenue y budget,\n",
    "# dividiendo estas dos últimas revenue / budget, cuando no hay datos disponibles para calcularlo, \n",
    "# deberá tomar el valor 0.\n",
    "movies[\"return\"] = movies[\"revenue\"].where(movies[\"budget\"] != 0) / movies[\"budget\"]\n",
    "# movies[\"return\"] = movies[\"revenue\"] / movies[\"budget\"]\n",
    "movies[\"return\"]"
   ]
  },
  {
   "cell_type": "code",
   "execution_count": 21,
   "id": "c45db74c",
   "metadata": {},
   "outputs": [],
   "source": [
    "# elimino la columna types(tipos)\n",
    "movies.drop([\"types\"], axis=1, inplace=True)"
   ]
  },
  {
   "cell_type": "code",
   "execution_count": 22,
   "id": "084c313a",
   "metadata": {},
   "outputs": [
    {
     "data": {
      "text/plain": [
       "Index(['belongs_to_collection', 'budget', 'genres', 'id', 'original_language',\n",
       "       'overview', 'production_companies', 'production_countries',\n",
       "       'release_date', 'revenue', 'runtime', 'tagline', 'title', 'return'],\n",
       "      dtype='object')"
      ]
     },
     "execution_count": 22,
     "metadata": {},
     "output_type": "execute_result"
    }
   ],
   "source": [
    "# visualizar las columnas restantes\n",
    "movies.columns"
   ]
  },
  {
   "cell_type": "markdown",
   "id": "d6ff4a4e",
   "metadata": {},
   "source": [
    "* **Los valores nulos del campo release date deben eliminarse.**"
   ]
  },
  {
   "cell_type": "code",
   "execution_count": 23,
   "id": "40e9750f",
   "metadata": {},
   "outputs": [
    {
     "name": "stdout",
     "output_type": "stream",
     "text": [
      "87\n",
      "0\n"
     ]
    }
   ],
   "source": [
    "# conteo de nulos de la columna\n",
    "print(movies[\"release_date\"].isnull().sum())\n",
    "\n",
    "# eliminar nulos\n",
    "movies.dropna(subset=[\"release_date\"], inplace = True)\n",
    "\n",
    "# conteo de nulos\n",
    "print(movies[\"release_date\"].isnull().sum())"
   ]
  },
  {
   "cell_type": "markdown",
   "id": "0ac5d151",
   "metadata": {},
   "source": [
    "De haber fechas, deberán tener el formato **`AAAA-mm-dd`**, además deberán crear la columna **`release_year`** donde extraerán el año de la fecha de estreno.  \n",
    "la columna release_date al convertirla al formato datetime presentó problemas, para solucionar se creó una función   para extraer las fechas y limpiar las cadenas ya que la columna es de tipo object"
   ]
  },
  {
   "cell_type": "code",
   "execution_count": 24,
   "id": "ff2d0084",
   "metadata": {},
   "outputs": [],
   "source": [
    "fechas = movies[\"release_date\"].to_list()\n",
    "fechas2 = []\n",
    "for fecha in fechas:\n",
    "    fecha.strip\n",
    "    fechas2.append(fecha)\n",
    "# fechas2"
   ]
  },
  {
   "cell_type": "code",
   "execution_count": 25,
   "id": "8a529d2a",
   "metadata": {},
   "outputs": [],
   "source": [
    "# creo e inserto la columna\n",
    "movies.insert(10, \"release_date2\", fechas2)"
   ]
  },
  {
   "cell_type": "code",
   "execution_count": 26,
   "id": "a5bb6cfb",
   "metadata": {},
   "outputs": [
    {
     "data": {
      "text/html": [
       "<div>\n",
       "<style scoped>\n",
       "    .dataframe tbody tr th:only-of-type {\n",
       "        vertical-align: middle;\n",
       "    }\n",
       "\n",
       "    .dataframe tbody tr th {\n",
       "        vertical-align: top;\n",
       "    }\n",
       "\n",
       "    .dataframe thead th {\n",
       "        text-align: right;\n",
       "    }\n",
       "</style>\n",
       "<table border=\"1\" class=\"dataframe\">\n",
       "  <thead>\n",
       "    <tr style=\"text-align: right;\">\n",
       "      <th></th>\n",
       "      <th>release_date</th>\n",
       "      <th>release_date2</th>\n",
       "    </tr>\n",
       "  </thead>\n",
       "  <tbody>\n",
       "    <tr>\n",
       "      <th>0</th>\n",
       "      <td>1995-10-30</td>\n",
       "      <td>1995-10-30</td>\n",
       "    </tr>\n",
       "    <tr>\n",
       "      <th>1</th>\n",
       "      <td>1995-12-15</td>\n",
       "      <td>1995-12-15</td>\n",
       "    </tr>\n",
       "    <tr>\n",
       "      <th>2</th>\n",
       "      <td>1995-12-22</td>\n",
       "      <td>1995-12-22</td>\n",
       "    </tr>\n",
       "    <tr>\n",
       "      <th>3</th>\n",
       "      <td>1995-12-22</td>\n",
       "      <td>1995-12-22</td>\n",
       "    </tr>\n",
       "    <tr>\n",
       "      <th>4</th>\n",
       "      <td>1995-02-10</td>\n",
       "      <td>1995-02-10</td>\n",
       "    </tr>\n",
       "    <tr>\n",
       "      <th>...</th>\n",
       "      <td>...</td>\n",
       "      <td>...</td>\n",
       "    </tr>\n",
       "    <tr>\n",
       "      <th>45460</th>\n",
       "      <td>1991-05-13</td>\n",
       "      <td>1991-05-13</td>\n",
       "    </tr>\n",
       "    <tr>\n",
       "      <th>45462</th>\n",
       "      <td>2011-11-17</td>\n",
       "      <td>2011-11-17</td>\n",
       "    </tr>\n",
       "    <tr>\n",
       "      <th>45463</th>\n",
       "      <td>2003-08-01</td>\n",
       "      <td>2003-08-01</td>\n",
       "    </tr>\n",
       "    <tr>\n",
       "      <th>45464</th>\n",
       "      <td>1917-10-21</td>\n",
       "      <td>1917-10-21</td>\n",
       "    </tr>\n",
       "    <tr>\n",
       "      <th>45465</th>\n",
       "      <td>2017-06-09</td>\n",
       "      <td>2017-06-09</td>\n",
       "    </tr>\n",
       "  </tbody>\n",
       "</table>\n",
       "<p>45346 rows × 2 columns</p>\n",
       "</div>"
      ],
      "text/plain": [
       "      release_date release_date2\n",
       "0       1995-10-30    1995-10-30\n",
       "1       1995-12-15    1995-12-15\n",
       "2       1995-12-22    1995-12-22\n",
       "3       1995-12-22    1995-12-22\n",
       "4       1995-02-10    1995-02-10\n",
       "...            ...           ...\n",
       "45460   1991-05-13    1991-05-13\n",
       "45462   2011-11-17    2011-11-17\n",
       "45463   2003-08-01    2003-08-01\n",
       "45464   1917-10-21    1917-10-21\n",
       "45465   2017-06-09    2017-06-09\n",
       "\n",
       "[45346 rows x 2 columns]"
      ]
     },
     "execution_count": 26,
     "metadata": {},
     "output_type": "execute_result"
    }
   ],
   "source": [
    "# visualizo laas columnas para una rápida comparación\n",
    "movies[[\"release_date\", \"release_date2\"]]"
   ]
  },
  {
   "cell_type": "code",
   "execution_count": 27,
   "id": "cee3a32a",
   "metadata": {},
   "outputs": [],
   "source": [
    "# Elimino la columna original\n",
    "movies.drop(\"release_date\", axis=1, inplace=True)"
   ]
  },
  {
   "cell_type": "code",
   "execution_count": 28,
   "id": "4b51b9f2",
   "metadata": {},
   "outputs": [],
   "source": [
    "# renombro la columna \n",
    "movies = movies.rename(columns={\"release_date2\": \"release_date\"})"
   ]
  },
  {
   "cell_type": "code",
   "execution_count": 29,
   "id": "9696d801",
   "metadata": {},
   "outputs": [],
   "source": [
    "# Convertir a formato fecha:\n",
    "movies[\"release_date\"] = pd.to_datetime(movies[\"release_date\"], format=\"%Y-%m-%d\")"
   ]
  },
  {
   "cell_type": "code",
   "execution_count": 30,
   "id": "260ca07c",
   "metadata": {},
   "outputs": [
    {
     "data": {
      "text/plain": [
       "dtype('<M8[ns]')"
      ]
     },
     "execution_count": 30,
     "metadata": {},
     "output_type": "execute_result"
    }
   ],
   "source": [
    "# chequeo el tipo de dato\n",
    "movies.release_date.dtype"
   ]
  },
  {
   "cell_type": "code",
   "execution_count": 31,
   "id": "2f7346d4",
   "metadata": {},
   "outputs": [],
   "source": [
    "# crear la columna release_year extrayendo el año de relaese\n",
    "movies[\"release_year\"] = movies[\"release_date\"].dt.year"
   ]
  },
  {
   "cell_type": "code",
   "execution_count": 32,
   "id": "ea168514",
   "metadata": {},
   "outputs": [
    {
     "data": {
      "text/plain": [
       "dtype('int32')"
      ]
     },
     "execution_count": 32,
     "metadata": {},
     "output_type": "execute_result"
    }
   ],
   "source": [
    "# verifico el tipo de dato\n",
    "movies.release_year.dtype"
   ]
  },
  {
   "cell_type": "code",
   "execution_count": 33,
   "id": "33f06545",
   "metadata": {},
   "outputs": [
    {
     "data": {
      "text/plain": [
       "0        1995\n",
       "1        1995\n",
       "2        1995\n",
       "3        1995\n",
       "4        1995\n",
       "         ... \n",
       "45460    1991\n",
       "45462    2011\n",
       "45463    2003\n",
       "45464    1917\n",
       "45465    2017\n",
       "Name: release_year, Length: 45346, dtype: int32"
      ]
     },
     "execution_count": 33,
     "metadata": {},
     "output_type": "execute_result"
    }
   ],
   "source": [
    "# visualizar la columna\n",
    "movies.release_year"
   ]
  },
  {
   "cell_type": "markdown",
   "id": "d0757a76",
   "metadata": {},
   "source": [
    "**Desanidar las columnas que lo requieran, estas contienen los datos de tipo object, pero contienen  \n",
    "a su vez listas y diccionarios**"
   ]
  },
  {
   "cell_type": "code",
   "execution_count": 34,
   "id": "3b271844",
   "metadata": {},
   "outputs": [],
   "source": [
    "# Función para desanidar la columna 'belongs_to_collection'\n",
    "def extraer_collection_name(collection):\n",
    "    if pd.isnull(collection):\n",
    "        return np.nan\n",
    "    else:\n",
    "        try:\n",
    "            return literal_eval(collection)['name']\n",
    "        except (ValueError, TypeError):\n",
    "            return np.nan"
   ]
  },
  {
   "cell_type": "code",
   "execution_count": 35,
   "id": "756ee2bb",
   "metadata": {},
   "outputs": [],
   "source": [
    "# Luego aplicamos la funcion a 'belongs_to_collection'\n",
    "movies['belongs_to_collection'] = movies['belongs_to_collection'].apply(extraer_collection_name)"
   ]
  },
  {
   "cell_type": "code",
   "execution_count": 36,
   "id": "a3ed7870",
   "metadata": {},
   "outputs": [
    {
     "data": {
      "text/html": [
       "<div>\n",
       "<style scoped>\n",
       "    .dataframe tbody tr th:only-of-type {\n",
       "        vertical-align: middle;\n",
       "    }\n",
       "\n",
       "    .dataframe tbody tr th {\n",
       "        vertical-align: top;\n",
       "    }\n",
       "\n",
       "    .dataframe thead th {\n",
       "        text-align: right;\n",
       "    }\n",
       "</style>\n",
       "<table border=\"1\" class=\"dataframe\">\n",
       "  <thead>\n",
       "    <tr style=\"text-align: right;\">\n",
       "      <th></th>\n",
       "      <th>belongs_to_collection</th>\n",
       "      <th>budget</th>\n",
       "      <th>genres</th>\n",
       "      <th>id</th>\n",
       "      <th>original_language</th>\n",
       "      <th>overview</th>\n",
       "      <th>production_companies</th>\n",
       "      <th>production_countries</th>\n",
       "      <th>revenue</th>\n",
       "      <th>release_date</th>\n",
       "      <th>runtime</th>\n",
       "      <th>tagline</th>\n",
       "      <th>title</th>\n",
       "      <th>return</th>\n",
       "      <th>release_year</th>\n",
       "    </tr>\n",
       "  </thead>\n",
       "  <tbody>\n",
       "    <tr>\n",
       "      <th>0</th>\n",
       "      <td>Toy Story Collection</td>\n",
       "      <td>30000000.0</td>\n",
       "      <td>[{'id': 16, 'name': 'Animation'}, {'id': 35, '...</td>\n",
       "      <td>862</td>\n",
       "      <td>en</td>\n",
       "      <td>Led by Woody, Andy's toys live happily in his ...</td>\n",
       "      <td>[{'name': 'Pixar Animation Studios', 'id': 3}]</td>\n",
       "      <td>[{'iso_3166_1': 'US', 'name': 'United States o...</td>\n",
       "      <td>373554033.0</td>\n",
       "      <td>1995-10-30</td>\n",
       "      <td>81.0</td>\n",
       "      <td>NaN</td>\n",
       "      <td>Toy Story</td>\n",
       "      <td>12.451801</td>\n",
       "      <td>1995</td>\n",
       "    </tr>\n",
       "  </tbody>\n",
       "</table>\n",
       "</div>"
      ],
      "text/plain": [
       "  belongs_to_collection      budget  \\\n",
       "0  Toy Story Collection  30000000.0   \n",
       "\n",
       "                                              genres   id original_language  \\\n",
       "0  [{'id': 16, 'name': 'Animation'}, {'id': 35, '...  862                en   \n",
       "\n",
       "                                            overview  \\\n",
       "0  Led by Woody, Andy's toys live happily in his ...   \n",
       "\n",
       "                             production_companies  \\\n",
       "0  [{'name': 'Pixar Animation Studios', 'id': 3}]   \n",
       "\n",
       "                                production_countries      revenue  \\\n",
       "0  [{'iso_3166_1': 'US', 'name': 'United States o...  373554033.0   \n",
       "\n",
       "  release_date  runtime tagline      title     return  release_year  \n",
       "0   1995-10-30     81.0     NaN  Toy Story  12.451801          1995  "
      ]
     },
     "execution_count": 36,
     "metadata": {},
     "output_type": "execute_result"
    }
   ],
   "source": [
    "# verificar si la columna está desanidada\n",
    "movies.head(1)"
   ]
  },
  {
   "cell_type": "code",
   "execution_count": 37,
   "id": "0755c73e",
   "metadata": {},
   "outputs": [],
   "source": [
    "# función para extraer los datos de columnas anidadas\n",
    "def convert(obj):\n",
    "    L = []\n",
    "    for i in literal_eval(obj):\n",
    "        L.append(i[\"name\"])\n",
    "    return L"
   ]
  },
  {
   "cell_type": "code",
   "execution_count": 38,
   "id": "89606b79",
   "metadata": {},
   "outputs": [],
   "source": [
    "# desanidar y convertir estas columnas en listas\n",
    "movies[\"genres\"] = movies[\"genres\"].apply(convert)\n",
    "movies[\"production_companies\"] = movies[\"production_companies\"].apply(convert)\n",
    "movies[\"production_countries\"] = movies[\"production_countries\"].apply(convert)\n",
    "# movies[\"spoken_languages\"] = movies[\"spoken_languages\"].apply(convert)"
   ]
  },
  {
   "cell_type": "code",
   "execution_count": 39,
   "id": "619b063c",
   "metadata": {},
   "outputs": [
    {
     "data": {
      "text/html": [
       "<div>\n",
       "<style scoped>\n",
       "    .dataframe tbody tr th:only-of-type {\n",
       "        vertical-align: middle;\n",
       "    }\n",
       "\n",
       "    .dataframe tbody tr th {\n",
       "        vertical-align: top;\n",
       "    }\n",
       "\n",
       "    .dataframe thead th {\n",
       "        text-align: right;\n",
       "    }\n",
       "</style>\n",
       "<table border=\"1\" class=\"dataframe\">\n",
       "  <thead>\n",
       "    <tr style=\"text-align: right;\">\n",
       "      <th></th>\n",
       "      <th>belongs_to_collection</th>\n",
       "      <th>budget</th>\n",
       "      <th>genres</th>\n",
       "      <th>id</th>\n",
       "      <th>original_language</th>\n",
       "      <th>overview</th>\n",
       "      <th>production_companies</th>\n",
       "      <th>production_countries</th>\n",
       "      <th>revenue</th>\n",
       "      <th>release_date</th>\n",
       "      <th>runtime</th>\n",
       "      <th>tagline</th>\n",
       "      <th>title</th>\n",
       "      <th>return</th>\n",
       "      <th>release_year</th>\n",
       "    </tr>\n",
       "  </thead>\n",
       "  <tbody>\n",
       "    <tr>\n",
       "      <th>0</th>\n",
       "      <td>Toy Story Collection</td>\n",
       "      <td>30000000.0</td>\n",
       "      <td>[Animation, Comedy, Family]</td>\n",
       "      <td>862</td>\n",
       "      <td>en</td>\n",
       "      <td>Led by Woody, Andy's toys live happily in his ...</td>\n",
       "      <td>[Pixar Animation Studios]</td>\n",
       "      <td>[United States of America]</td>\n",
       "      <td>373554033.0</td>\n",
       "      <td>1995-10-30</td>\n",
       "      <td>81.0</td>\n",
       "      <td>NaN</td>\n",
       "      <td>Toy Story</td>\n",
       "      <td>12.451801</td>\n",
       "      <td>1995</td>\n",
       "    </tr>\n",
       "  </tbody>\n",
       "</table>\n",
       "</div>"
      ],
      "text/plain": [
       "  belongs_to_collection      budget                       genres   id  \\\n",
       "0  Toy Story Collection  30000000.0  [Animation, Comedy, Family]  862   \n",
       "\n",
       "  original_language                                           overview  \\\n",
       "0                en  Led by Woody, Andy's toys live happily in his ...   \n",
       "\n",
       "        production_companies        production_countries      revenue  \\\n",
       "0  [Pixar Animation Studios]  [United States of America]  373554033.0   \n",
       "\n",
       "  release_date  runtime tagline      title     return  release_year  \n",
       "0   1995-10-30     81.0     NaN  Toy Story  12.451801          1995  "
      ]
     },
     "execution_count": 39,
     "metadata": {},
     "output_type": "execute_result"
    }
   ],
   "source": [
    "# visualizar para confirmar la conversión\n",
    "movies.head(1)"
   ]
  },
  {
   "cell_type": "code",
   "execution_count": 40,
   "id": "d4533214",
   "metadata": {},
   "outputs": [],
   "source": [
    "# función para desanidar la columna cast(actores de la película), por tener demasiada información \n",
    "# solo se extrajeron tres(3) actores\n",
    "def convert_2(obj):\n",
    "    L = []\n",
    "    counter = 0\n",
    "    for i in literal_eval(obj):\n",
    "        if counter != 3:\n",
    "            L.append(i[\"name\"])\n",
    "            counter +=  1\n",
    "        else:\n",
    "            break\n",
    "    return L"
   ]
  },
  {
   "cell_type": "code",
   "execution_count": 41,
   "id": "78ce97f2",
   "metadata": {},
   "outputs": [],
   "source": [
    "# aplicar la función convert_2\n",
    "credits[\"cast\"] = credits[\"cast\"].apply(convert_2)"
   ]
  },
  {
   "cell_type": "code",
   "execution_count": 42,
   "id": "b5de886a",
   "metadata": {},
   "outputs": [
    {
     "data": {
      "text/plain": [
       "['Tom Hanks', 'Tim Allen', 'Don Rickles']"
      ]
     },
     "execution_count": 42,
     "metadata": {},
     "output_type": "execute_result"
    }
   ],
   "source": [
    "# verificamos la extracción\n",
    "credits[\"cast\"]\n",
    "credits[\"cast\"][0]"
   ]
  },
  {
   "cell_type": "code",
   "execution_count": 43,
   "id": "1cc928df",
   "metadata": {},
   "outputs": [],
   "source": [
    "# función para extraer el director de la película\n",
    "def fetch_director(obj):\n",
    "    L = []\n",
    "    for i in literal_eval(obj):\n",
    "        if i[\"job\"] == \"Director\":\n",
    "            L.append(i[\"name\"])\n",
    "            break\n",
    "\n",
    "    return L"
   ]
  },
  {
   "cell_type": "code",
   "execution_count": 44,
   "id": "460a29b7",
   "metadata": {},
   "outputs": [],
   "source": [
    "# aplicar función fetch_director\n",
    "credits[\"crew\"] = credits[\"crew\"].apply(fetch_director)"
   ]
  },
  {
   "cell_type": "code",
   "execution_count": 45,
   "id": "2fde2a7d",
   "metadata": {},
   "outputs": [
    {
     "data": {
      "text/plain": [
       "['John Lasseter']"
      ]
     },
     "execution_count": 45,
     "metadata": {},
     "output_type": "execute_result"
    }
   ],
   "source": [
    "# verificamos la extracción\n",
    "credits[\"crew\"]\n",
    "credits[\"crew\"][0]"
   ]
  },
  {
   "cell_type": "code",
   "execution_count": 46,
   "id": "69d13058",
   "metadata": {},
   "outputs": [],
   "source": [
    "# credits.crew.value_counts()"
   ]
  },
  {
   "cell_type": "markdown",
   "id": "036df7d1",
   "metadata": {},
   "source": [
    "**Unir los dataframe**  \n",
    "Se unen los dataframe para trabajar mejor con un solo conjunto de datos.\n",
    "Esto presentó problemas por los tipos de datos de las columnas id del dataframe movies y del dataframe credits\n",
    "por lo siguiente:\n",
    "1 - El tipo de dato de la columna id de movies es object mientras que en credit es int64.\n",
    "2 - Al cambiar el tipo de dato de la columna id de movies, salta un error, algunas filas tienen caracteres\n",
    "ademas de números, lo que precisó buscar la manera de ver cuantas eran para determinar el procedimiento\n",
    "a seguir. Las filas con el problema eran tres(3), se visualizaron para comprobar que informacíon contenían\n",
    "y se procedió a elimarlas ya que la mayoría de los campos eran nulos."
   ]
  },
  {
   "cell_type": "code",
   "execution_count": 47,
   "id": "c01ce2d7",
   "metadata": {},
   "outputs": [
    {
     "name": "stdout",
     "output_type": "stream",
     "text": [
      "object\n",
      "int64\n"
     ]
    }
   ],
   "source": [
    "# verificar el tipo de datos de los id de ambos dataframe\n",
    "print(movies.id.dtype)\n",
    "print(credits.id.dtype)"
   ]
  },
  {
   "cell_type": "code",
   "execution_count": 48,
   "id": "05d35b64",
   "metadata": {},
   "outputs": [],
   "source": [
    "# cambio el tipo de dato de la columna id de movies\n",
    "movies[\"id\"] = movies[\"id\"].astype('int')"
   ]
  },
  {
   "cell_type": "code",
   "execution_count": 49,
   "id": "c5082844",
   "metadata": {},
   "outputs": [],
   "source": [
    "# unir los datasets\n",
    "df_movies = pd.merge(movies, credits, on=\"id\")"
   ]
  },
  {
   "cell_type": "code",
   "execution_count": 50,
   "id": "f790b29d",
   "metadata": {},
   "outputs": [
    {
     "data": {
      "text/html": [
       "<div>\n",
       "<style scoped>\n",
       "    .dataframe tbody tr th:only-of-type {\n",
       "        vertical-align: middle;\n",
       "    }\n",
       "\n",
       "    .dataframe tbody tr th {\n",
       "        vertical-align: top;\n",
       "    }\n",
       "\n",
       "    .dataframe thead th {\n",
       "        text-align: right;\n",
       "    }\n",
       "</style>\n",
       "<table border=\"1\" class=\"dataframe\">\n",
       "  <thead>\n",
       "    <tr style=\"text-align: right;\">\n",
       "      <th></th>\n",
       "      <th>belongs_to_collection</th>\n",
       "      <th>budget</th>\n",
       "      <th>genres</th>\n",
       "      <th>id</th>\n",
       "      <th>original_language</th>\n",
       "      <th>overview</th>\n",
       "      <th>production_companies</th>\n",
       "      <th>production_countries</th>\n",
       "      <th>revenue</th>\n",
       "      <th>release_date</th>\n",
       "      <th>runtime</th>\n",
       "      <th>tagline</th>\n",
       "      <th>title</th>\n",
       "      <th>return</th>\n",
       "      <th>release_year</th>\n",
       "      <th>cast</th>\n",
       "      <th>crew</th>\n",
       "    </tr>\n",
       "  </thead>\n",
       "  <tbody>\n",
       "    <tr>\n",
       "      <th>0</th>\n",
       "      <td>Toy Story Collection</td>\n",
       "      <td>30000000.0</td>\n",
       "      <td>[Animation, Comedy, Family]</td>\n",
       "      <td>862</td>\n",
       "      <td>en</td>\n",
       "      <td>Led by Woody, Andy's toys live happily in his ...</td>\n",
       "      <td>[Pixar Animation Studios]</td>\n",
       "      <td>[United States of America]</td>\n",
       "      <td>373554033.0</td>\n",
       "      <td>1995-10-30</td>\n",
       "      <td>81.0</td>\n",
       "      <td>NaN</td>\n",
       "      <td>Toy Story</td>\n",
       "      <td>12.451801</td>\n",
       "      <td>1995</td>\n",
       "      <td>[Tom Hanks, Tim Allen, Don Rickles]</td>\n",
       "      <td>[John Lasseter]</td>\n",
       "    </tr>\n",
       "    <tr>\n",
       "      <th>1</th>\n",
       "      <td>NaN</td>\n",
       "      <td>65000000.0</td>\n",
       "      <td>[Adventure, Fantasy, Family]</td>\n",
       "      <td>8844</td>\n",
       "      <td>en</td>\n",
       "      <td>When siblings Judy and Peter discover an encha...</td>\n",
       "      <td>[TriStar Pictures, Teitler Film, Interscope Co...</td>\n",
       "      <td>[United States of America]</td>\n",
       "      <td>262797249.0</td>\n",
       "      <td>1995-12-15</td>\n",
       "      <td>104.0</td>\n",
       "      <td>Roll the dice and unleash the excitement!</td>\n",
       "      <td>Jumanji</td>\n",
       "      <td>4.043035</td>\n",
       "      <td>1995</td>\n",
       "      <td>[Robin Williams, Jonathan Hyde, Kirsten Dunst]</td>\n",
       "      <td>[Joe Johnston]</td>\n",
       "    </tr>\n",
       "    <tr>\n",
       "      <th>2</th>\n",
       "      <td>Grumpy Old Men Collection</td>\n",
       "      <td>0.0</td>\n",
       "      <td>[Romance, Comedy]</td>\n",
       "      <td>15602</td>\n",
       "      <td>en</td>\n",
       "      <td>A family wedding reignites the ancient feud be...</td>\n",
       "      <td>[Warner Bros., Lancaster Gate]</td>\n",
       "      <td>[United States of America]</td>\n",
       "      <td>0.0</td>\n",
       "      <td>1995-12-22</td>\n",
       "      <td>101.0</td>\n",
       "      <td>Still Yelling. Still Fighting. Still Ready for...</td>\n",
       "      <td>Grumpier Old Men</td>\n",
       "      <td>NaN</td>\n",
       "      <td>1995</td>\n",
       "      <td>[Walter Matthau, Jack Lemmon, Ann-Margret]</td>\n",
       "      <td>[Howard Deutch]</td>\n",
       "    </tr>\n",
       "    <tr>\n",
       "      <th>3</th>\n",
       "      <td>NaN</td>\n",
       "      <td>16000000.0</td>\n",
       "      <td>[Comedy, Drama, Romance]</td>\n",
       "      <td>31357</td>\n",
       "      <td>en</td>\n",
       "      <td>Cheated on, mistreated and stepped on, the wom...</td>\n",
       "      <td>[Twentieth Century Fox Film Corporation]</td>\n",
       "      <td>[United States of America]</td>\n",
       "      <td>81452156.0</td>\n",
       "      <td>1995-12-22</td>\n",
       "      <td>127.0</td>\n",
       "      <td>Friends are the people who let you be yourself...</td>\n",
       "      <td>Waiting to Exhale</td>\n",
       "      <td>5.090760</td>\n",
       "      <td>1995</td>\n",
       "      <td>[Whitney Houston, Angela Bassett, Loretta Devine]</td>\n",
       "      <td>[Forest Whitaker]</td>\n",
       "    </tr>\n",
       "    <tr>\n",
       "      <th>4</th>\n",
       "      <td>Father of the Bride Collection</td>\n",
       "      <td>0.0</td>\n",
       "      <td>[Comedy]</td>\n",
       "      <td>11862</td>\n",
       "      <td>en</td>\n",
       "      <td>Just when George Banks has recovered from his ...</td>\n",
       "      <td>[Sandollar Productions, Touchstone Pictures]</td>\n",
       "      <td>[United States of America]</td>\n",
       "      <td>76578911.0</td>\n",
       "      <td>1995-02-10</td>\n",
       "      <td>106.0</td>\n",
       "      <td>Just When His World Is Back To Normal... He's ...</td>\n",
       "      <td>Father of the Bride Part II</td>\n",
       "      <td>NaN</td>\n",
       "      <td>1995</td>\n",
       "      <td>[Steve Martin, Diane Keaton, Martin Short]</td>\n",
       "      <td>[Charles Shyer]</td>\n",
       "    </tr>\n",
       "  </tbody>\n",
       "</table>\n",
       "</div>"
      ],
      "text/plain": [
       "            belongs_to_collection      budget                        genres  \\\n",
       "0            Toy Story Collection  30000000.0   [Animation, Comedy, Family]   \n",
       "1                             NaN  65000000.0  [Adventure, Fantasy, Family]   \n",
       "2       Grumpy Old Men Collection         0.0             [Romance, Comedy]   \n",
       "3                             NaN  16000000.0      [Comedy, Drama, Romance]   \n",
       "4  Father of the Bride Collection         0.0                      [Comedy]   \n",
       "\n",
       "      id original_language                                           overview  \\\n",
       "0    862                en  Led by Woody, Andy's toys live happily in his ...   \n",
       "1   8844                en  When siblings Judy and Peter discover an encha...   \n",
       "2  15602                en  A family wedding reignites the ancient feud be...   \n",
       "3  31357                en  Cheated on, mistreated and stepped on, the wom...   \n",
       "4  11862                en  Just when George Banks has recovered from his ...   \n",
       "\n",
       "                                production_companies  \\\n",
       "0                          [Pixar Animation Studios]   \n",
       "1  [TriStar Pictures, Teitler Film, Interscope Co...   \n",
       "2                     [Warner Bros., Lancaster Gate]   \n",
       "3           [Twentieth Century Fox Film Corporation]   \n",
       "4       [Sandollar Productions, Touchstone Pictures]   \n",
       "\n",
       "         production_countries      revenue release_date  runtime  \\\n",
       "0  [United States of America]  373554033.0   1995-10-30     81.0   \n",
       "1  [United States of America]  262797249.0   1995-12-15    104.0   \n",
       "2  [United States of America]          0.0   1995-12-22    101.0   \n",
       "3  [United States of America]   81452156.0   1995-12-22    127.0   \n",
       "4  [United States of America]   76578911.0   1995-02-10    106.0   \n",
       "\n",
       "                                             tagline  \\\n",
       "0                                                NaN   \n",
       "1          Roll the dice and unleash the excitement!   \n",
       "2  Still Yelling. Still Fighting. Still Ready for...   \n",
       "3  Friends are the people who let you be yourself...   \n",
       "4  Just When His World Is Back To Normal... He's ...   \n",
       "\n",
       "                         title     return  release_year  \\\n",
       "0                    Toy Story  12.451801          1995   \n",
       "1                      Jumanji   4.043035          1995   \n",
       "2             Grumpier Old Men        NaN          1995   \n",
       "3            Waiting to Exhale   5.090760          1995   \n",
       "4  Father of the Bride Part II        NaN          1995   \n",
       "\n",
       "                                                cast               crew  \n",
       "0                [Tom Hanks, Tim Allen, Don Rickles]    [John Lasseter]  \n",
       "1     [Robin Williams, Jonathan Hyde, Kirsten Dunst]     [Joe Johnston]  \n",
       "2         [Walter Matthau, Jack Lemmon, Ann-Margret]    [Howard Deutch]  \n",
       "3  [Whitney Houston, Angela Bassett, Loretta Devine]  [Forest Whitaker]  \n",
       "4         [Steve Martin, Diane Keaton, Martin Short]    [Charles Shyer]  "
      ]
     },
     "execution_count": 50,
     "metadata": {},
     "output_type": "execute_result"
    }
   ],
   "source": [
    "# visualizo registros para confirmar la unión\n",
    "df_movies.head()"
   ]
  },
  {
   "cell_type": "code",
   "execution_count": 51,
   "id": "415c16c1",
   "metadata": {},
   "outputs": [
    {
     "name": "stdout",
     "output_type": "stream",
     "text": [
      "Filas: 45352 - Columnas: 17\n"
     ]
    }
   ],
   "source": [
    "# visualizo la dimensión del dataframe resultante\n",
    "print(f\"Filas: {df_movies.shape[0]} - Columnas: {df_movies.shape[1]}\")"
   ]
  },
  {
   "cell_type": "code",
   "execution_count": 52,
   "id": "448ed1f8",
   "metadata": {},
   "outputs": [
    {
     "data": {
      "text/plain": [
       "Index(['belongs_to_collection', 'budget', 'genres', 'id', 'original_language',\n",
       "       'overview', 'production_companies', 'production_countries', 'revenue',\n",
       "       'release_date', 'runtime', 'tagline', 'title', 'return', 'release_year',\n",
       "       'cast', 'crew'],\n",
       "      dtype='object')"
      ]
     },
     "execution_count": 52,
     "metadata": {},
     "output_type": "execute_result"
    }
   ],
   "source": [
    "df_movies.columns"
   ]
  },
  {
   "cell_type": "code",
   "execution_count": 53,
   "id": "f393d60f",
   "metadata": {},
   "outputs": [],
   "source": [
    "# msno.matrix(df_movies)"
   ]
  },
  {
   "cell_type": "code",
   "execution_count": 54,
   "id": "51963ed2",
   "metadata": {},
   "outputs": [],
   "source": [
    "# msno.bar(df_movies)"
   ]
  },
  {
   "cell_type": "markdown",
   "id": "06e640d7",
   "metadata": {},
   "source": [
    "**Reducción del dataset**  \n",
    "La reducción de los datos es necesaria por las características del hardware de pruebas(disco y memoria limitados) y del servicio donde se hará el deploy(render), tenemos que el conjunto de datos es bastante grande y consume mas memoria que la que permite el servicio de render, por tanto se toma la decisión de recortar los datos, el problema que se presenta para esto es que datos eliminar, ya que un análisis previo demuestra la cantidad de datos faltantes(nulos) en casi todas las columnas, dificultando la escogencia del criterio de eliminación.\n"
   ]
  },
  {
   "cell_type": "code",
   "execution_count": 55,
   "id": "89fff080",
   "metadata": {},
   "outputs": [],
   "source": [
    "# msno.matrix(df_movies)"
   ]
  },
  {
   "cell_type": "code",
   "execution_count": 56,
   "id": "58017114",
   "metadata": {},
   "outputs": [],
   "source": [
    "# guardo con diferentes extensiones\n",
    "# df_movies.to_parquet('datasets/dataset_despues_del_ETL/movies_processed.parquet')\n",
    "# df_movies.to_pickle(\"datasets/dataset_despues_del_ETL/movies_processed.pickle\")\n",
    "# df_movies.to_csv(\"datasets/dataset_despues_del_ETL/movies_processed.csv\")"
   ]
  },
  {
   "cell_type": "code",
   "execution_count": 57,
   "id": "988c2e4b",
   "metadata": {},
   "outputs": [],
   "source": [
    "# creo un dataset a partir de las filas de la columna budget diferentes a 0\n",
    "df = df_movies[df_movies[\"budget\"] != 0]\n",
    "# print(df[\"belongs_to_collection\"].to_string())"
   ]
  },
  {
   "cell_type": "code",
   "execution_count": 58,
   "id": "948458c9",
   "metadata": {},
   "outputs": [
    {
     "data": {
      "text/html": [
       "<div>\n",
       "<style scoped>\n",
       "    .dataframe tbody tr th:only-of-type {\n",
       "        vertical-align: middle;\n",
       "    }\n",
       "\n",
       "    .dataframe tbody tr th {\n",
       "        vertical-align: top;\n",
       "    }\n",
       "\n",
       "    .dataframe thead th {\n",
       "        text-align: right;\n",
       "    }\n",
       "</style>\n",
       "<table border=\"1\" class=\"dataframe\">\n",
       "  <thead>\n",
       "    <tr style=\"text-align: right;\">\n",
       "      <th></th>\n",
       "      <th>belongs_to_collection</th>\n",
       "      <th>budget</th>\n",
       "      <th>genres</th>\n",
       "      <th>id</th>\n",
       "      <th>original_language</th>\n",
       "      <th>overview</th>\n",
       "      <th>production_companies</th>\n",
       "      <th>production_countries</th>\n",
       "      <th>revenue</th>\n",
       "      <th>release_date</th>\n",
       "      <th>runtime</th>\n",
       "      <th>tagline</th>\n",
       "      <th>title</th>\n",
       "      <th>return</th>\n",
       "      <th>release_year</th>\n",
       "      <th>cast</th>\n",
       "      <th>crew</th>\n",
       "    </tr>\n",
       "  </thead>\n",
       "  <tbody>\n",
       "    <tr>\n",
       "      <th>0</th>\n",
       "      <td>Toy Story Collection</td>\n",
       "      <td>30000000.0</td>\n",
       "      <td>[Animation, Comedy, Family]</td>\n",
       "      <td>862</td>\n",
       "      <td>en</td>\n",
       "      <td>Led by Woody, Andy's toys live happily in his ...</td>\n",
       "      <td>[Pixar Animation Studios]</td>\n",
       "      <td>[United States of America]</td>\n",
       "      <td>373554033.0</td>\n",
       "      <td>1995-10-30</td>\n",
       "      <td>81.0</td>\n",
       "      <td>NaN</td>\n",
       "      <td>Toy Story</td>\n",
       "      <td>12.451801</td>\n",
       "      <td>1995</td>\n",
       "      <td>[Tom Hanks, Tim Allen, Don Rickles]</td>\n",
       "      <td>[John Lasseter]</td>\n",
       "    </tr>\n",
       "  </tbody>\n",
       "</table>\n",
       "</div>"
      ],
      "text/plain": [
       "  belongs_to_collection      budget                       genres   id  \\\n",
       "0  Toy Story Collection  30000000.0  [Animation, Comedy, Family]  862   \n",
       "\n",
       "  original_language                                           overview  \\\n",
       "0                en  Led by Woody, Andy's toys live happily in his ...   \n",
       "\n",
       "        production_companies        production_countries      revenue  \\\n",
       "0  [Pixar Animation Studios]  [United States of America]  373554033.0   \n",
       "\n",
       "  release_date  runtime tagline      title     return  release_year  \\\n",
       "0   1995-10-30     81.0     NaN  Toy Story  12.451801          1995   \n",
       "\n",
       "                                  cast             crew  \n",
       "0  [Tom Hanks, Tim Allen, Don Rickles]  [John Lasseter]  "
      ]
     },
     "execution_count": 58,
     "metadata": {},
     "output_type": "execute_result"
    }
   ],
   "source": [
    "df.head(1)"
   ]
  },
  {
   "cell_type": "code",
   "execution_count": 59,
   "id": "c8b6e391",
   "metadata": {},
   "outputs": [],
   "source": [
    "# guardo con diferentes extensiones\n",
    "# df.to_parquet('datasets/datasets_reducidos/movies_processed.parquet')\n",
    "# df.to_pickle(\"datasets/datasets_reducidos/movies_processed.pickle\")\n",
    "# df.to_csv(\"datasets/datasets_reducidos/movies_processed.csv\")"
   ]
  },
  {
   "cell_type": "code",
   "execution_count": 60,
   "id": "1f9a33d9",
   "metadata": {},
   "outputs": [],
   "source": [
    "del df_movies"
   ]
  },
  {
   "cell_type": "code",
   "execution_count": 61,
   "id": "e39aaee1",
   "metadata": {},
   "outputs": [],
   "source": [
    "\n",
    "\n",
    "# Select a random sample of 10,000 rows\n",
    "# df = df.sample(n=10000)\n",
    "\n",
    "# Write the data to a new CSV file\n",
    "# df.to_csv('movies_sample.csv')\n",
    "# new_df.to_parquet('movies.parquet')\n",
    "# new_df.to_pickle(\"movies.pickle\")\n",
    "# new_df.to_csv(\"movies_model.csv\")"
   ]
  },
  {
   "cell_type": "markdown",
   "id": "5afaa1d3",
   "metadata": {},
   "source": [
    "**Funciones de retorno de datos**"
   ]
  },
  {
   "cell_type": "markdown",
   "id": "0a112ac5",
   "metadata": {},
   "source": [
    "* def peliculas_idioma( Idioma: str ):  \n",
    "Se ingresa un idioma (como están escritos en el dataset, no hay que traducirlos!).   Debe devolver la cantidad de películas producidas en ese idioma.  \n",
    "Ejemplo de retorno: X cantidad de películas fueron estrenadas en idioma  \n",
    "\n",
    "* def peliculas_duracion( Pelicula: str ):  \n",
    "Se ingresa una pelicula. Debe devolver la duracion y el año.  \n",
    "Ejemplo de retorno: X . Duración: x. Año: xx  \n",
    "\n",
    "* def franquicia( Franquicia: str ):  \n",
    "Se ingresa la franquicia, retornando la cantidad de peliculas, ganancia  \n",
    "total y promedio   \n",
    "Ejemplo de retorno: La franquicia X posee X peliculas, una ganancia total de x y una ganancia promedio de xx  \n",
    "\n",
    "* def peliculas_pais( Pais: str ):  \n",
    "Se ingresa un país (como están escritos en el dataset, no hay que traducirlos!),   retornando la cantidad de  peliculas producidas en el mismo.  \n",
    "Ejemplo de retorno: Se produjeron X películas en el país X  \n",
    "\n",
    "* def productoras_exitosas( Productora: str ):  \n",
    "Se ingresa la productora, entregandote el revunue total y la cantidad  \n",
    "de peliculas que realizo.  \n",
    "Ejemplo de retorno: La productora X ha tenido un revenue de x  \n",
    "\n",
    "* def get_director( nombre_director ):  \n",
    "Se ingresa el nombre de un director que se encuentre dentro de un dataset debiendo devolver el éxito del mismo  medido a través del retorno. Además, deberá devolver el nombre de cada película  \n",
    "con la fecha de lanzamiento, retorno individual, costo y ganancia de la misma, en formato lista.  \n",
    "\n",
    "\n",
    "**Análisis exploratorio de los datos: (Exploratory Data Analysis-EDA)**  \n",
    "\n",
    "Ya los datos están limpios, ahora es tiempo de investigar las relaciones que hay entre las variables de los datasets, ver si hay outliers o anomalías (que no tienen que ser errores necesariamente :eyes: ), y ver si hay algún patrón interesante que valga la pena explorar en un análisis posterior. Las nubes de palabras dan una buena idea de cuáles palabras son más frecuentes en los títulos, ¡podría ayudar al sistema de recomendación! En esta ocasión vamos a pedirte que no uses librerías para hacer EDA automático ya que queremos que pongas en practica los conceptos y tareas involucrados en el mismo. Puedes leer un poco más sobre EDA en este articulo\n",
    "\n",
    "**Sistema de recomendación:**\n",
    "\n",
    "Una vez que toda la data es consumible por la API, está lista para consumir por los departamentos de Analytics y Machine Learning, y nuestro EDA nos permite entender bien los datos a los que tenemos acceso, es hora de entrenar nuestro modelo de machine learning para armar un sistema de recomendación de películas. El EDA debería incluir gráficas interesantes para extraer datos, como por ejemplo una nube de palabras con las palabras más frecuentes en los títulos de las películas. Éste consiste en recomendar películas a los usuarios basándose en películas similares, por lo que se debe encontrar la similitud de puntuación entre esa película y el resto de películas, se ordenarán según el score de similaridad y devolverá una lista de Python con 5 valores, cada uno siendo el string del nombre de las películas con mayor puntaje, en orden descendente. Debe ser deployado como una función adicional de la API anterior y debe llamarse:\n",
    "\n",
    "* def recomendacion( titulo ):  \n",
    "Se ingresa el nombre de una película y te recomienda las similares en una lista de 5 valores."
   ]
  },
  {
   "cell_type": "code",
   "execution_count": null,
   "id": "5e8d1a03",
   "metadata": {},
   "outputs": [],
   "source": [
    "def peliculas_idioma( Idioma: str ):\n",
    "    ''' Se ingresa un idioma (como están escritos en el dataset, no hay que traducirlos!). \n",
    "        Debe devolver la cantidad de películas producidas en ese idioma.\n",
    "        Ejemplo de retorno: X cantidad de películas fueron estrenadas en idioma'''\n",
    "    # res = df_movies[\"original_language\"] == Idioma\n",
    "    res = df[\"original_language\"] == Idioma\n",
    "    # print(f\"{res.sum()} películas fueron estrenadas en idioma {Idioma}\")\n",
    "    # print(f\"{str(res.sum())} cantidad de películas fueron estrenadas en idioma {Idioma}\")\n",
    "    # cantidad_peliculas = res.sum()\n",
    "    # cantidad_peliculas = str(cantidad_peliculas)\n",
    "    #print(f\"{cantidad_peliculas} cantidad de películas fueron estrenadas en idioma {Idioma}\")\n",
    "    # print(cantidad_peliculas)\n",
    "    # return res.sum()\n",
    "    return {\"idioma\": Idioma, \"cantidad\": res.sum()}\n",
    "    \n",
    "    "
   ]
  },
  {
   "cell_type": "code",
   "execution_count": null,
   "id": "9b25a5a5",
   "metadata": {},
   "outputs": [],
   "source": [
    "language = input(\"Ingrese el idioma: \")\n",
    "peliculas_idioma(language)"
   ]
  },
  {
   "cell_type": "code",
   "execution_count": null,
   "id": "9d303075",
   "metadata": {},
   "outputs": [],
   "source": []
  },
  {
   "cell_type": "code",
   "execution_count": null,
   "id": "8cf9bb81",
   "metadata": {},
   "outputs": [],
   "source": [
    "# df_movies[\"original_language\"].count() # total completo del dataframe\n",
    "# df_movies[\"original_language\"].values[20000] # array numpy de idiomas\n",
    "# df_movies[\"original_language\"].value_counts() # total de lenguajes por película\n",
    "\n",
    "# lenguajes = df_movies.groupby(\"original_language\")[\"title\"]\n",
    "#lenguajes.value_counts()\n",
    "# lenguajes.nunique()\n",
    "# tipo_leng = input(\"Ingrese el idioma: \")\n",
    "# lenguajes = df_movies[\"original_language\"] == tipo_leng\n",
    "# lenguajes.sum()\n",
    "#print(f\"{lenguajes.value_counts()} cantidad de películas se estrenaron en el idioma {tipo_leng}\")\n"
   ]
  },
  {
   "cell_type": "code",
   "execution_count": null,
   "id": "dacc444d",
   "metadata": {},
   "outputs": [],
   "source": [
    "# df_movies[\"original_language\"].value_counts()"
   ]
  },
  {
   "cell_type": "code",
   "execution_count": null,
   "id": "e81a508b",
   "metadata": {},
   "outputs": [],
   "source": [
    "# df_movies[\"original_language\"].head(50)"
   ]
  },
  {
   "cell_type": "code",
   "execution_count": null,
   "id": "f947cb40",
   "metadata": {},
   "outputs": [],
   "source": []
  },
  {
   "cell_type": "code",
   "execution_count": null,
   "id": "7d5a280e",
   "metadata": {},
   "outputs": [],
   "source": [
    "def peliculas_duracion( Pelicula: str ):\n",
    "    '''Se ingresa una pelicula. Debe devolver la duracion y el año.\n",
    "       Ejemplo de retorno: X . Duración: x. Año: xx '''\n",
    "    # res = df_movies[df_movies[\"title\"] == Pelicula]\n",
    "    res = df[df[\"title\"] == Pelicula]\n",
    "    # print(f\"Película: {Pelicula} - Duración: {res.runtime.item()} - Año: {res.release_year.item()}\")\n",
    "    return {\"pelicula\": Pelicula, \"duracion\": res.runtime.item(), \"anio\": res.release_year.item()}"
   ]
  },
  {
   "cell_type": "code",
   "execution_count": null,
   "id": "64d5e86e",
   "metadata": {},
   "outputs": [],
   "source": [
    "mov = input(\"Ingresa el nombre de una película: \")\n",
    "peliculas_duracion(mov)"
   ]
  },
  {
   "cell_type": "code",
   "execution_count": null,
   "id": "3e8c89ac",
   "metadata": {},
   "outputs": [],
   "source": [
    "# peli = df_movies.loc[30364, [\"title\", \"runtime\", \"release_year\"]]\n",
    "# peli"
   ]
  },
  {
   "cell_type": "code",
   "execution_count": null,
   "id": "0b866e27",
   "metadata": {},
   "outputs": [],
   "source": [
    "# print(df_movies[\"title\"].to_string())\n",
    "# print(df[\"title\"].to_string())\n",
    "# print(df[\"original_language\"].to_string())"
   ]
  },
  {
   "cell_type": "code",
   "execution_count": null,
   "id": "6922e5d5",
   "metadata": {},
   "outputs": [],
   "source": [
    "# pel = input(\"Ingresa el nombre de una película\")\n",
    "# res = df_movies[df_movies[\"title\"] == pel]\n",
    "# print(f\"Película: {pel} - Duración: {res.runtime.values} - Año: {res.release_year.values}\")"
   ]
  },
  {
   "cell_type": "code",
   "execution_count": null,
   "id": "f88245d3",
   "metadata": {},
   "outputs": [],
   "source": [
    "#def get_movie_info(name):\n",
    "#   \"\"\"\n",
    "#   Esta función recibe un parámetro que es el nombre de la película y devuelve el nombre de la película, la duración (runtime) y el año de estreno (release_year).\n",
    "\n",
    "#   Args:\n",
    "#     name: El nombre de la película.\n",
    "\n",
    "#   Returns:\n",
    "#     Un diccionario con los siguientes campos:\n",
    "#       name: El nombre de la película.\n",
    "#       runtime: La duración de la película en minutos.\n",
    "#       release_year: El año de estreno de la película.\n",
    "#   \"\"\"\n",
    "\n",
    "  # Importamos la biblioteca Pandas.\n",
    "  # import pandas as pd\n",
    "\n",
    "  # Leemos el archivo CSV que contiene la información de las películas.\n",
    "  # df = pd.read_csv(\"movies.csv\")\n",
    "\n",
    "  # Filtramos el DataFrame por el nombre de la película.\n",
    "  # df = df_movies[df_movies[\"title\"] == name]\n",
    "\n",
    "  # Obtenemos el nombre de la película, la duración y el año de estreno.\n",
    "  # movie = df[\"title\"].iloc[0]\n",
    "  # runtime = df[\"runtime\"].iloc[0]\n",
    "  # release_year = df[\"release_year\"].iloc[0]\n",
    "\n",
    "  # Devolvemos un diccionario con los datos obtenidos.\n",
    "  # return {\"Película\": movie, \"Duración\": runtime, \"Año\": release_year}"
   ]
  },
  {
   "cell_type": "code",
   "execution_count": null,
   "id": "5c8b9deb",
   "metadata": {},
   "outputs": [],
   "source": [
    "# p = input(\"Ingresa el nombre de la película: \")\n",
    "# get_movie_info(p)"
   ]
  },
  {
   "cell_type": "code",
   "execution_count": null,
   "id": "8487f9bb",
   "metadata": {},
   "outputs": [],
   "source": []
  },
  {
   "cell_type": "code",
   "execution_count": null,
   "id": "f6feb5ab",
   "metadata": {},
   "outputs": [],
   "source": [
    "def franquicia( Franquicia: str ):\n",
    "    '''Se ingresa la franquicia, retornando la cantidad de peliculas, ganancia\n",
    "    total y promedio\n",
    "    Ejemplo de retorno: La franquicia X posee X peliculas, una ganancia total de x y una ganancia promedio de xx '''\n",
    "    # f = df_movies[df_movies[\"belongs_to_collection\"] == Franquicia]\n",
    "    f = df[df[\"belongs_to_collection\"] == Franquicia]\n",
    "    cant_pel = len(f)\n",
    "    ganancia_total = f.revenue.sum()\n",
    "    promed = ganancia_total / 3\n",
    "    # print(f\"La franquicia: {Franquicia} posee: {cant_pel} películas - Ganancia total: {ganancia_total} y Ganancia promedio de: {promed:.2f}\")\n",
    "    return {'franquicia':Franquicia, 'cantidad':cant_pel, 'ganancia_total':ganancia_total, 'ganancia_promedio':round(promed, 2)}"
   ]
  },
  {
   "cell_type": "code",
   "execution_count": null,
   "id": "bcca0a0f",
   "metadata": {},
   "outputs": [],
   "source": [
    "name_franq = input(\"Ingresa una franquicia: \")\n",
    "franquicia(name_franq)"
   ]
  },
  {
   "cell_type": "code",
   "execution_count": null,
   "id": "df8a8222",
   "metadata": {},
   "outputs": [],
   "source": [
    "# df_movies[\"belongs_to_collection\"].to_string()\n",
    "# df[\"belongs_to_collection\"].to_string()"
   ]
  },
  {
   "cell_type": "code",
   "execution_count": null,
   "id": "bc90be00",
   "metadata": {},
   "outputs": [],
   "source": [
    "# f = df_movies[df_movies[\"belongs_to_collection\"] == \"Balto Collection\"] # \"Balto Collection\" \"Toy Story Collection\" \"Ace Ventura Collection\" \"Chili Palmer Collection\"\n",
    "# cant_pel = len(f)\n",
    "# ganancia_total = f.revenue.sum()\n",
    "# promed = ganancia_total / 3\n",
    "# print(f\"Cantidad de películas: {cant_pel} - Ganancia total: {ganancia_total} - Promedio: {promed:.2f}\")\n",
    "# print(cant_pel)\n",
    "# print(ganancia_total)\n",
    "# print(promed)\n",
    "# print(len(f))"
   ]
  },
  {
   "cell_type": "code",
   "execution_count": null,
   "id": "b1143a4d",
   "metadata": {},
   "outputs": [],
   "source": [
    "# franq_name = input(\"Ingresa una franquicia: \")\n",
    "# franq = df_movies[\"belongs_to_collection\"] == franq_name  # \"Toy Story Collection\" Balto Collection Ace Ventura Collection Chili Palmer Collection"
   ]
  },
  {
   "cell_type": "code",
   "execution_count": null,
   "id": "a078e462",
   "metadata": {},
   "outputs": [],
   "source": [
    "# df_movies.shape\n",
    "df.shape"
   ]
  },
  {
   "cell_type": "code",
   "execution_count": null,
   "id": "927bd07a",
   "metadata": {},
   "outputs": [],
   "source": []
  },
  {
   "cell_type": "code",
   "execution_count": null,
   "id": "4c706303",
   "metadata": {},
   "outputs": [],
   "source": [
    "def peliculas_pais( Pais: str ):\n",
    "    '''Se ingresa un país (como están escritos en el dataset, no hay que traducirlos!), retornando la \n",
    "    cantidad de peliculas producidas en el mismo.\n",
    "    Ejemplo de retorno: Se produjeron X películas en el país X '''\n",
    "    # prod_movies = df_movies[df_movies.production_countries.apply(pd.Series)[0] == Pais].count()\n",
    "    #prod_movies = df[df.production_countries.apply(pd.Series)[0] == Pais].production_countries.count()\n",
    "    # print(f\"Se produjeron: {prod_movies.title} películas en el país: {Pais}\")\n",
    "    #return {'pais':Pais, 'cantidad':prod_movies}\n",
    "    country_movies = Pais\n",
    "    cont = 0\n",
    "    for country in df[\"production_countries\"]:\n",
    "        for pais in country:\n",
    "            # print(pais)\n",
    "            if pais == country_movies:\n",
    "                cont += 1\n",
    "    \n",
    "    datos           = dict()\n",
    "    \n",
    "    if cont > 0:\n",
    "        datos       = {\n",
    "                    \"pais\"    : Pais,\n",
    "                    \"cantidad\": cont\n",
    "        }\n",
    "        \n",
    "    return datos"
   ]
  },
  {
   "cell_type": "code",
   "execution_count": null,
   "id": "7605796d",
   "metadata": {},
   "outputs": [],
   "source": [
    "movie_by_country = input(\"Ingresa un país: \")\n",
    "peliculas_pais(movie_by_country)"
   ]
  },
  {
   "cell_type": "code",
   "execution_count": null,
   "id": "6eb0c26a",
   "metadata": {},
   "outputs": [],
   "source": [
    "# df_movies.columns\n",
    "# print(df_movies[\"production_countries\"].to_string())\n",
    "# print(df[\"production_countries\"].to_string())\n",
    "\n",
    "# df.columns\n",
    "# print(df[\"production_countries\"].to_string())"
   ]
  },
  {
   "cell_type": "code",
   "execution_count": null,
   "id": "6ad27ba3",
   "metadata": {
    "scrolled": true
   },
   "outputs": [],
   "source": [
    "# pais = df_movies[df_movies[\"production_countries\"] == \"United States of America\"]\n",
    "# production_countries_list = df[\"production_countries\"].str.split(\",\")\n",
    "# pais = df_movies[df_movies[\"production_countries\"][0] == 'United States of America']\n",
    "# print(pais)\n",
    "\n",
    "# funciona\n",
    "# for country in df_movies[\"production_countries\"]:\n",
    "#     print(country)\n",
    "\n",
    "\n",
    "# for i, country in enumerate(df_movies[\"production_countries\"]):\n",
    "#     print(i, country)\n",
    "# country_movies = \"United States of America\"\n",
    "# cont = 0\n",
    "# for country in df_movies[\"production_countries\"]:\n",
    "#     for pais in country:\n",
    "#         # print(pais)\n",
    "#         #if pais == country_movies:\n",
    "#         cont += 1\n",
    "# print(cont) # 49397\n",
    "\n",
    "\n",
    "# funciona\n",
    "# for country in df[\"production_countries\"]:\n",
    "#     print(country[0])\n",
    "\n",
    "\n",
    "# for i, country in enumerate(df[\"production_countries\"]):\n",
    "#     print(i, country)\n",
    "# country_movies = \"France\"\n",
    "# cont = 0\n",
    "# for country in df[\"production_countries\"]:\n",
    "#     for pais in country:\n",
    "#         # print(pais)\n",
    "#         if pais == country_movies:\n",
    "#             cont += 1\n",
    "# print(cont) # 49397"
   ]
  },
  {
   "cell_type": "code",
   "execution_count": null,
   "id": "28805131",
   "metadata": {},
   "outputs": [],
   "source": []
  },
  {
   "cell_type": "code",
   "execution_count": null,
   "id": "5f9dc859",
   "metadata": {
    "scrolled": true
   },
   "outputs": [],
   "source": [
    "# ver si una columna del dataframe es lista\n",
    "# df_movies.applymap(lambda x: isinstance(x, list)).all()"
   ]
  },
  {
   "cell_type": "code",
   "execution_count": null,
   "id": "277629e1",
   "metadata": {},
   "outputs": [],
   "source": []
  },
  {
   "cell_type": "code",
   "execution_count": null,
   "id": "c1cfda04",
   "metadata": {},
   "outputs": [],
   "source": [
    "# df_movies.production_countries.apply(pd.Series)[0].value_counts()\n",
    "# df_movies.production_countries.apply(pd.Series)[0].count()\n",
    "# df_movies[df_movies.production_countries.apply(pd.Series)[0] == 'Canada'].count()\n",
    "# df_movies[df_movies.production_countries.apply(pd.Series)[0] == 'Germany'].head(10)\n",
    "# (df_movies.production_countries.apply(pd.Series)[0] == 'Germany').head(10)\n",
    "# j = df_movies[df_movies.production_countries.apply(pd.Series)[0] == 'United States of America'].count()\n",
    "# print(j.title)\n",
    "\n",
    "# print(df_movies.production_countries.apply(pd.Series)[0].to_string())\n",
    "\n",
    "\n",
    "# df.production_countries.apply(pd.Series)[0].value_counts()\n",
    "# df.production_countries.apply(pd.Series)[0].count()\n",
    "# df[df.production_countries.apply(pd.Series)[0] == 'Canada'].count()\n",
    "val = df[df.production_countries.apply(pd.Series)[0] == 'France']\n",
    "type(val.production_countries.count())\n",
    "# df[df.production_countries.apply(pd.Series)[0] == 'Canada'].value_counts() # error\n",
    "\n",
    "# df_movies[df_movies.production_countries.apply(pd.Series)[0] == 'Germany'].head(10)\n",
    "# (df_movies.production_countries.apply(pd.Series)[0] == 'Germany').head(10)\n",
    "# j = df_movies[df_movies.production_countries.apply(pd.Series)[0] == 'United States of America'].count()\n",
    "# print(j.title)\n",
    "\n",
    "# print(df_movies.production_countries.apply(pd.Series)[0].to_string())"
   ]
  },
  {
   "cell_type": "code",
   "execution_count": null,
   "id": "ad78f6cd",
   "metadata": {},
   "outputs": [],
   "source": [
    "val = df[]"
   ]
  },
  {
   "cell_type": "code",
   "execution_count": null,
   "id": "7848a82c",
   "metadata": {},
   "outputs": [],
   "source": [
    "def productoras_exitosas( Productora: str ):\n",
    "    '''Se ingresa la productora, entregandote el revenue total y la cantidad\n",
    "    de peliculas que realizó.\n",
    "    Ejemplo de retorno: La productora X ha tenido un revenue de x '''\n",
    "    # producer = df_movies[df_movies.production_companies.apply(pd.Series)[0] == Productora]\n",
    "    producer = df[df.production_companies.apply(pd.Series)[0] == Productora]\n",
    "    # print(f\"La productora {Productora} ha tenido un revenue de {producer.revenue.sum()} con {producer.title.count()} películas \")\n",
    "    return {'productora':Productora, 'revenue_total': producer.revenue.sum(),'cantidad':producer.title.count()}\n",
    "\n",
    "    # producer = df.filter(['production_companies', 'revenue'])[df.production_companies.apply(pd.Series)[0] == Productora]\n",
    "    # return {'productora':Productora, 'revenue_total': producer.revenue.sum(),'cantidad':len(producer)}\n",
    "\n",
    "#     prod = \"Pixar Animation Studios\"\n",
    "#     cont = 0\n",
    "#     for company in df[\"production_companies\"]:\n",
    "#         for productora in company:\n",
    "#         # print(pais)\n",
    "#             if productora == prod:\n",
    "#                 cont += 1\n",
    "            \n",
    "#     print(cont)\n",
    "    "
   ]
  },
  {
   "cell_type": "code",
   "execution_count": null,
   "id": "ed263214",
   "metadata": {},
   "outputs": [],
   "source": [
    "# está mal el resultado\n",
    "producer = input(\"Ingrese la productora: \")\n",
    "productoras_exitosas(producer)"
   ]
  },
  {
   "cell_type": "code",
   "execution_count": null,
   "id": "7c2a8142",
   "metadata": {},
   "outputs": [],
   "source": [
    "# producer = df.filter(['production_companies', 'revenue'])[df.production_companies.apply(pd.Series)[0] == \"Pixar Animation Studios\"]\n",
    "Productora = \"Pixar Animation Studios\"\n",
    "# producer = df.dropna(subset=['production_companies'])\n",
    "# producer = df[df.production_companies.str.contains(Productora)]\n",
    "# producer\n",
    "\n",
    "# producer = df['production_companies'].str.contains(Productora, case=False)# .sum()\n",
    "# print(producer.to_string())\n",
    "\n",
    "prod = \"Pixar Animation Studios\"\n",
    "cont = 0\n",
    "for company in df[\"production_companies\"]:\n",
    "    for productora in company:\n",
    "        # print(pais)\n",
    "        if productora == prod:\n",
    "            cont += 1\n",
    "            \n",
    "print(cont)"
   ]
  },
  {
   "cell_type": "code",
   "execution_count": null,
   "id": "bee44508",
   "metadata": {},
   "outputs": [],
   "source": [
    "# La productora Pixar Animation Studios ha tenido un revenue de 2546355520.0 con 29 películas\n",
    "# producer = df_movies[df_movies.production_companies.apply(pd.Series)[0] == 'Pixar Animation Studios'] #.head(10)\n",
    "# producer\n",
    "# print(producer.title.count())\n",
    "# print(producer.revenue.sum())\n",
    "# df_movies[df_movies.production_companies.apply(pd.Series)[0] == 'Ang Lee Productions'].count()\n",
    "\n",
    "\n",
    "# producer = df[df.production_companies.apply(pd.Series)[0 o 1] == 'Pixar Animation Studios'] #.head(10)\n",
    "# len(producer)\n",
    "# print(producer.title.count())\n",
    "# print(producer.revenue.sum())\n",
    "# df_movies[df_movies.production_companies.apply(pd.Series)[0] == 'Ang Lee Productions'].count()\n",
    "\n",
    "companies = df[\"production_companies\"].tolist()\n",
    "\n",
    "# Get the number of movies for each company\n",
    "# count = {}\n",
    "# for company in companies:\n",
    "#     if company not in count:\n",
    "#         count[company] = 0\n",
    "#     count[company] += 1\n",
    "\n",
    "# # Print the results\n",
    "# print(count)\n",
    "\n",
    "count = {}\n",
    "for company in companies:\n",
    "    company = tuple(company)\n",
    "    if company not in count:\n",
    "        count[company] = 0\n",
    "    count[company] += 1\n",
    "\n",
    "# Print the results\n",
    "print(count)"
   ]
  },
  {
   "cell_type": "code",
   "execution_count": null,
   "id": "ba912921",
   "metadata": {},
   "outputs": [],
   "source": [
    "# print(df_movies[\"production_companies\"].to_string())\n",
    "# print(df[\"production_companies\"].to_string())\n",
    "#df[df[\"production_companies\"] == \"Pixar Animation Studios\"].count()\n",
    "\n",
    "# def count_movies(company):\n",
    "#     # df = pd.read_csv(\"movies.csv\")\n",
    "#     movies = df[df[\"production_companies\"].str.contains(company)]\n",
    "#     return len(movies)\n",
    "\n",
    "# # Count the number of movies for Pixar Animation Studios\n",
    "# number_of_movies = count_movies(\"Pixar Animation Studios\")\n",
    "# print(number_of_movies)"
   ]
  },
  {
   "cell_type": "code",
   "execution_count": null,
   "id": "27883c39",
   "metadata": {},
   "outputs": [],
   "source": [
    "# resultados = df.dropna(subset=['production_companies'])\n",
    "# # se filtra los registros que tienen coincidencia en la columna de prooductoras\n",
    "# resultados = resultados.loc[resultados['production_companies'].str.contains(\"Pixar Animation Studios\", case=False)]\n",
    "   \n",
    "# # se calcula la cantidad y la suma de ganancia  \n",
    "# cantidad        = len(resultados)\n",
    "# revenue_total   = resultados['revenue'].sum() \n",
    "# datos           = dict()\n",
    "# if cantidad > 0:\n",
    "#     datos   = {\n",
    "#                     \"productora\"        : productora,\n",
    "#                     \"cantidad\"          : cantidad,\n",
    "#                     \"revenue_total\"     : revenue_total\n",
    "#             }\n",
    "# print (datos)"
   ]
  },
  {
   "cell_type": "code",
   "execution_count": null,
   "id": "a52396bd",
   "metadata": {},
   "outputs": [],
   "source": []
  },
  {
   "cell_type": "code",
   "execution_count": null,
   "id": "623ec867",
   "metadata": {},
   "outputs": [],
   "source": [
    "def get_director( nombre_director: str ):\n",
    "    '''Se ingresa el nombre de un director que se encuentre dentro de un dataset debiendo devolver el éxito del\n",
    "    mismo medido a través del retorno. Además, deberá devolver el nombre de cada película\n",
    "    con la fecha de lanzamiento, retorno individual, costo y ganancia de la misma, en formato lista.'''\n",
    "    # return {'director':nombre_director, 'retorno_total_director':respuesta, \n",
    "    # 'peliculas':respuesta, 'anio':respuesta,, 'retorno_pelicula':respuesta, \n",
    "    # 'budget_pelicula':respuesta, 'revenue_pelicula':respuesta}\n",
    "    # director = df_movies[df_movies.crew.apply(pd.Series)[0] == nombre_director]\n",
    "    director = df[df.crew.apply(pd.Series)[0] == nombre_director]\n",
    "    movies = director['title'].tolist()\n",
    "    rel_years = director.release_year.tolist()\n",
    "    ind_returns = director[\"return\"].tolist()\n",
    "    costs = director.budget.tolist()\n",
    "    revs = director.revenue.tolist()\n",
    "    \n",
    "    movie_data = []\n",
    "    for movie, rel_year, ind_return, cost, rev in zip(movies, rel_years, ind_returns, costs, revs):\n",
    "        movie_data.append([movie, rel_year, ind_return, cost, rev])\n",
    "    \n",
    "    movies_director_dicc = {}\n",
    "    \n",
    "    for lista in movie_data:\n",
    "        # print(lista)\n",
    "        print({'peliculas':lista[0], 'anio':lista[1], 'retorno_pelicula':lista[2], \n",
    "        'budget_pelicula':lista[3], 'revenue_pelicula':lista[4]})\n",
    "        \n",
    "    # total_revs = sum(director.revenue)\n",
    "    # total_cost = sum(director.budget)\n",
    "    \n",
    "    \n",
    "    total_ret_director = sum(director.revenue) / sum(director.budget)\n",
    "    return {\"retorno_total_director\": total_ret_director}\n",
    "    "
   ]
  },
  {
   "cell_type": "code",
   "execution_count": null,
   "id": "5a126ec5",
   "metadata": {},
   "outputs": [],
   "source": [
    "director_movies = input(\"Ingresa un director: \")\n",
    "get_director(director_movies)"
   ]
  },
  {
   "cell_type": "code",
   "execution_count": null,
   "id": "76a452f6",
   "metadata": {},
   "outputs": [],
   "source": [
    "# nombre_director = \"Joe Johnston\"\n",
    "# director = df.loc[df['crew'].str.contains('Joe Johnston')]\n",
    "# director.title\n",
    "\n",
    "\n",
    "df[df[\"title\"] == \"Sense and Sensibility\"]\n",
    "# [\n",
    "#     \"Sense and Sensibility\",\n",
    "#     1995,\n",
    "#     8.18,\n",
    "#     16500000,\n",
    "#     135000000\n",
    "#   ],"
   ]
  },
  {
   "cell_type": "code",
   "execution_count": null,
   "id": "2ac38dfe",
   "metadata": {},
   "outputs": [],
   "source": [
    "# print(df_movies[\"crew\"].to_string())\n",
    "# print(df[\"crew\"].to_string())"
   ]
  },
  {
   "cell_type": "code",
   "execution_count": null,
   "id": "76f27aab",
   "metadata": {
    "scrolled": true
   },
   "outputs": [],
   "source": [
    "# director = df_movies[df_movies.crew.apply(pd.Series)[0] == 'Joe Johnston'] #.head(10)\n",
    "# # director\n",
    "\n",
    "# # print(sum(director.budget))\n",
    "# movies = director['title'].tolist()\n",
    "# # len(movies)\n",
    "# # movies[0]\n",
    "# rel_years = director.release_year.tolist()\n",
    "# # rel_years[0]\n",
    "# ind_returns = director[\"return\"].tolist()\n",
    "# costs = director.budget.tolist()\n",
    "# # costs[1]\n",
    "# revs = director.revenue.tolist()\n",
    "# revs[0]\n",
    "# print(type(cost))\n",
    "\n",
    "# movies_director_dicc = {}\n",
    "# movie_data = []\n",
    "\n",
    "# for movie, rel_year, ind_return, cost, rev in zip(movies, rel_years, ind_returns, costs, revs):\n",
    "#     movie_data.append([movie, rel_year, ind_return, cost, rev])\n",
    "    \n",
    "# movies_director_list = []\n",
    "    \n",
    "# for lista in movie_data:\n",
    "#     # print(lista)\n",
    "#     movies_director_list.append({'peliculas':lista[0], 'anio':lista[1], 'retorno_pelicula':lista[2], \n",
    "#         'budget_pelicula':lista[3], 'revenue_pelicula':lista[4]})\n",
    "\n",
    "# print(movies_director_list)\n",
    "\n",
    "# total_revs = sum(director.revenue)\n",
    "# total_revs\n",
    "\n",
    "# # costo total de las películas\n",
    "# total_cost = sum(director.budget)\n",
    "# total_cost\n",
    "\n",
    "# total_ret_director = total_revs / total_cost\n",
    "# total_ret_director\n",
    "# print(retor_ind)\n",
    "\n",
    "# movie_data = []\n",
    "# for movie, rel_year, ind_return, cost, rev in zip(movies, rel_years, ind_returns, costs, revs):\n",
    "#     movie_data.append([movie, rel_year, ind_return, cost, rev])\n",
    "\n",
    "# for lista in movie_data:\n",
    "#     # print(lista)\n",
    "#     print({'peliculas':lista[0], 'anio':lista[1], 'retorno_pelicula':lista[2], \n",
    "#     'budget_pelicula':lista[3], 'revenue_pelicula':lista[4]})\n",
    "\n",
    "# movie_data = []\n",
    "# for movie, release_date, individual_return, cost, earnings in zip(movies, release_dates, individual_returns, costs, earnings):\n",
    "#     movie_data.append([movie, release_date, individual_return, cost, earnings])\n",
    "\n",
    "\n",
    "# print(movies)\n",
    "# print(len(movies))\n",
    "\n",
    "# print(type(director))\n",
    "# director.title\n",
    "# for inf in director:\n",
    "#     print(director[inf].items())\n",
    "\n",
    "# director = df_movies[df_movies.production_companies.apply(pd.Series)[0] == 'Ang Lee Productions'] #.head(10)\n",
    "#producer\n",
    "# print(producer.title.count())\n",
    "# print(producer.revenue.sum())\n",
    "# df_movies[df_movies.production_companies.apply(pd.Series)[0] == 'Ang Lee Productions'].count()\n",
    "\n",
    "# ['Jumanji', 1995, 4.0430346, 65000000.0, 262797249.0]\n",
    "# ['The Pagemaster', 1994, 0.5063217777777778, 27000000.0, 13670688.0]\n",
    "# ['Honey, I Shrunk the Kids', 1989, 6.960130375, 32000000.0, 222724172.0]\n",
    "# ['The Rocketeer', 1991, 1.4761904761904763, 42000000.0, 62000000.0]\n",
    "# ['October Sky', 1999, nan, 0.0, 0.0]\n",
    "# ['Jurassic Park III', 2001, 3.9653850430107527, 93000000.0, 368780809.0]\n",
    "# ['Hidalgo', 2004, 1.0810345, 100000000.0, 108103450.0]\n",
    "# ['The Wolfman', 2010, 0.0, 150000000.0, 0.0]\n",
    "# ['Captain America: The First Avenger', 2011, 2.646926957142857, 140000000.0, 370569774.0]\n",
    "# ['Not Safe for Work', 2014, nan, 0.0, 0.0]"
   ]
  },
  {
   "cell_type": "code",
   "execution_count": 62,
   "id": "3037a2fd",
   "metadata": {},
   "outputs": [
    {
     "data": {
      "text/plain": [
       "Index(['belongs_to_collection', 'budget', 'genres', 'id', 'original_language',\n",
       "       'overview', 'production_companies', 'production_countries', 'revenue',\n",
       "       'release_date', 'runtime', 'tagline', 'title', 'return', 'release_year',\n",
       "       'cast', 'crew'],\n",
       "      dtype='object')"
      ]
     },
     "execution_count": 62,
     "metadata": {},
     "output_type": "execute_result"
    }
   ],
   "source": [
    "# df_movies.columns\n",
    "df.columns"
   ]
  },
  {
   "cell_type": "code",
   "execution_count": null,
   "id": "f618c06f",
   "metadata": {},
   "outputs": [],
   "source": [
    "# df_movies.head(3)\n",
    "# df_movies.info()\n",
    "# print(df_movies.overview.to_string())\n",
    "# df_movies.overview.isnull().value_counts()\n",
    "# df_movies[\"overview\"][0]\n",
    "# df_movies[\"genres\"]"
   ]
  },
  {
   "cell_type": "code",
   "execution_count": 63,
   "id": "ab42e22f",
   "metadata": {},
   "outputs": [
    {
     "data": {
      "text/plain": [
       "(8880, 17)"
      ]
     },
     "execution_count": 63,
     "metadata": {},
     "output_type": "execute_result"
    }
   ],
   "source": [
    "# df_movies.shape\n",
    "df.shape"
   ]
  },
  {
   "cell_type": "markdown",
   "id": "7fd7fdaf",
   "metadata": {},
   "source": [
    "**EDA**"
   ]
  },
  {
   "cell_type": "code",
   "execution_count": 64,
   "id": "e876fcc1",
   "metadata": {},
   "outputs": [
    {
     "data": {
      "text/html": [
       "<div>\n",
       "<style scoped>\n",
       "    .dataframe tbody tr th:only-of-type {\n",
       "        vertical-align: middle;\n",
       "    }\n",
       "\n",
       "    .dataframe tbody tr th {\n",
       "        vertical-align: top;\n",
       "    }\n",
       "\n",
       "    .dataframe thead th {\n",
       "        text-align: right;\n",
       "    }\n",
       "</style>\n",
       "<table border=\"1\" class=\"dataframe\">\n",
       "  <thead>\n",
       "    <tr style=\"text-align: right;\">\n",
       "      <th></th>\n",
       "      <th>belongs_to_collection</th>\n",
       "      <th>budget</th>\n",
       "      <th>genres</th>\n",
       "      <th>id</th>\n",
       "      <th>original_language</th>\n",
       "      <th>overview</th>\n",
       "      <th>production_companies</th>\n",
       "      <th>production_countries</th>\n",
       "      <th>revenue</th>\n",
       "      <th>release_date</th>\n",
       "      <th>runtime</th>\n",
       "      <th>tagline</th>\n",
       "      <th>title</th>\n",
       "      <th>return</th>\n",
       "      <th>release_year</th>\n",
       "      <th>cast</th>\n",
       "      <th>crew</th>\n",
       "    </tr>\n",
       "  </thead>\n",
       "  <tbody>\n",
       "    <tr>\n",
       "      <th>0</th>\n",
       "      <td>Toy Story Collection</td>\n",
       "      <td>30000000.0</td>\n",
       "      <td>[Animation, Comedy, Family]</td>\n",
       "      <td>862</td>\n",
       "      <td>en</td>\n",
       "      <td>Led by Woody, Andy's toys live happily in his ...</td>\n",
       "      <td>[Pixar Animation Studios]</td>\n",
       "      <td>[United States of America]</td>\n",
       "      <td>373554033.0</td>\n",
       "      <td>1995-10-30</td>\n",
       "      <td>81.0</td>\n",
       "      <td>NaN</td>\n",
       "      <td>Toy Story</td>\n",
       "      <td>12.451801</td>\n",
       "      <td>1995</td>\n",
       "      <td>[Tom Hanks, Tim Allen, Don Rickles]</td>\n",
       "      <td>[John Lasseter]</td>\n",
       "    </tr>\n",
       "  </tbody>\n",
       "</table>\n",
       "</div>"
      ],
      "text/plain": [
       "  belongs_to_collection      budget                       genres   id  \\\n",
       "0  Toy Story Collection  30000000.0  [Animation, Comedy, Family]  862   \n",
       "\n",
       "  original_language                                           overview  \\\n",
       "0                en  Led by Woody, Andy's toys live happily in his ...   \n",
       "\n",
       "        production_companies        production_countries      revenue  \\\n",
       "0  [Pixar Animation Studios]  [United States of America]  373554033.0   \n",
       "\n",
       "  release_date  runtime tagline      title     return  release_year  \\\n",
       "0   1995-10-30     81.0     NaN  Toy Story  12.451801          1995   \n",
       "\n",
       "                                  cast             crew  \n",
       "0  [Tom Hanks, Tim Allen, Don Rickles]  [John Lasseter]  "
      ]
     },
     "execution_count": 64,
     "metadata": {},
     "output_type": "execute_result"
    }
   ],
   "source": [
    "df.head(1)"
   ]
  },
  {
   "cell_type": "code",
   "execution_count": null,
   "id": "7127c03b",
   "metadata": {},
   "outputs": [],
   "source": []
  },
  {
   "cell_type": "code",
   "execution_count": null,
   "id": "1e58ca4e",
   "metadata": {},
   "outputs": [],
   "source": [
    "df['budget'].corr(df['revenue'])"
   ]
  },
  {
   "cell_type": "code",
   "execution_count": null,
   "id": "5684c948",
   "metadata": {},
   "outputs": [],
   "source": [
    "df[['budget', 'revenue']].plot(kind='box')"
   ]
  },
  {
   "cell_type": "code",
   "execution_count": null,
   "id": "30f891e9",
   "metadata": {},
   "outputs": [],
   "source": [
    "# plot = df['genres'].value_counts().plot(kind='bar', title='Géneros mas populares')\n",
    "# plot.show()\n",
    "\n",
    "# df[['budget', 'revenue']].plot(kind='scatter')"
   ]
  },
  {
   "cell_type": "code",
   "execution_count": null,
   "id": "4d569911",
   "metadata": {},
   "outputs": [],
   "source": [
    "# conteo de nulos de la columna overview\n",
    "# print(movies[\"overview\"].isnull().sum())\n",
    "# eliminar nulos\n",
    "# movies.dropna(subset=[\"overview\"], inplace = True)\n",
    "\n",
    "# conteo de nulos\n",
    "# print(movies[\"overview\"].isnull().sum())"
   ]
  },
  {
   "cell_type": "markdown",
   "id": "5db776fc",
   "metadata": {},
   "source": [
    "**Arreglo de las columnas escogidas para el modelo**"
   ]
  },
  {
   "cell_type": "code",
   "execution_count": null,
   "id": "00d698e6",
   "metadata": {},
   "outputs": [],
   "source": [
    "# df_movies.head(2)"
   ]
  },
  {
   "cell_type": "code",
   "execution_count": null,
   "id": "c69ca09a",
   "metadata": {},
   "outputs": [],
   "source": []
  },
  {
   "cell_type": "code",
   "execution_count": 65,
   "id": "aeaf6567",
   "metadata": {},
   "outputs": [],
   "source": [
    "df[\"overview\"] = df[\"overview\"].apply(lambda x: str(x).split())\n",
    "# df_movies[\"overview\"] = df_movies[\"overview\"].apply(lambda x: str(x).split())\n",
    "# df_movies.overview\n",
    "# print(df_movies.genres.to_string())"
   ]
  },
  {
   "cell_type": "code",
   "execution_count": 66,
   "id": "538c40cc",
   "metadata": {},
   "outputs": [],
   "source": [
    "df[\"genres\"] = df[\"genres\"].apply(lambda x: [i.replace(\" \", \"\") for i in x])\n",
    "df[\"cast\"] = df[\"cast\"].apply(lambda x: [i.replace(\" \", \"\") for i in x])\n",
    "df[\"crew\"] = df[\"crew\"].apply(lambda x: [i.replace(\" \", \"\") for i in x])\n",
    "\n",
    "# print(df_movies[\"crew\"].to_string())"
   ]
  },
  {
   "cell_type": "code",
   "execution_count": 67,
   "id": "b5c94d2c",
   "metadata": {},
   "outputs": [],
   "source": [
    "df[\"tags\"] = df[\"overview\"] + df[\"genres\"] + df[\"cast\"] + df[\"crew\"]"
   ]
  },
  {
   "cell_type": "code",
   "execution_count": 68,
   "id": "cc80a784",
   "metadata": {},
   "outputs": [],
   "source": [
    "# df_movies.head(2)\n",
    "# df_movies[df_movies[\"title\"] == \"Avatar\"]"
   ]
  },
  {
   "cell_type": "code",
   "execution_count": 69,
   "id": "8726421b",
   "metadata": {},
   "outputs": [],
   "source": [
    "new_df = df[[\"id\", \"title\", \"tags\"]]"
   ]
  },
  {
   "cell_type": "code",
   "execution_count": 70,
   "id": "ab4bf534",
   "metadata": {},
   "outputs": [
    {
     "data": {
      "text/html": [
       "<div>\n",
       "<style scoped>\n",
       "    .dataframe tbody tr th:only-of-type {\n",
       "        vertical-align: middle;\n",
       "    }\n",
       "\n",
       "    .dataframe tbody tr th {\n",
       "        vertical-align: top;\n",
       "    }\n",
       "\n",
       "    .dataframe thead th {\n",
       "        text-align: right;\n",
       "    }\n",
       "</style>\n",
       "<table border=\"1\" class=\"dataframe\">\n",
       "  <thead>\n",
       "    <tr style=\"text-align: right;\">\n",
       "      <th></th>\n",
       "      <th>id</th>\n",
       "      <th>title</th>\n",
       "      <th>tags</th>\n",
       "    </tr>\n",
       "  </thead>\n",
       "  <tbody>\n",
       "    <tr>\n",
       "      <th>0</th>\n",
       "      <td>862</td>\n",
       "      <td>Toy Story</td>\n",
       "      <td>[Led, by, Woody,, Andy's, toys, live, happily,...</td>\n",
       "    </tr>\n",
       "    <tr>\n",
       "      <th>1</th>\n",
       "      <td>8844</td>\n",
       "      <td>Jumanji</td>\n",
       "      <td>[When, siblings, Judy, and, Peter, discover, a...</td>\n",
       "    </tr>\n",
       "    <tr>\n",
       "      <th>3</th>\n",
       "      <td>31357</td>\n",
       "      <td>Waiting to Exhale</td>\n",
       "      <td>[Cheated, on,, mistreated, and, stepped, on,, ...</td>\n",
       "    </tr>\n",
       "    <tr>\n",
       "      <th>5</th>\n",
       "      <td>949</td>\n",
       "      <td>Heat</td>\n",
       "      <td>[Obsessive, master, thief,, Neil, McCauley, le...</td>\n",
       "    </tr>\n",
       "    <tr>\n",
       "      <th>6</th>\n",
       "      <td>11860</td>\n",
       "      <td>Sabrina</td>\n",
       "      <td>[An, ugly, duckling, having, undergone, a, rem...</td>\n",
       "    </tr>\n",
       "    <tr>\n",
       "      <th>...</th>\n",
       "      <td>...</td>\n",
       "      <td>...</td>\n",
       "      <td>...</td>\n",
       "    </tr>\n",
       "    <tr>\n",
       "      <th>45290</th>\n",
       "      <td>293654</td>\n",
       "      <td>Corporate Event</td>\n",
       "      <td>[Igor,, a, furniture, store, manager,, tries, ...</td>\n",
       "    </tr>\n",
       "    <tr>\n",
       "      <th>45296</th>\n",
       "      <td>100152</td>\n",
       "      <td>Mars</td>\n",
       "      <td>[Somewhere, deep,, deep, in, Russia, there, is...</td>\n",
       "    </tr>\n",
       "    <tr>\n",
       "      <th>45297</th>\n",
       "      <td>62757</td>\n",
       "      <td>Savages</td>\n",
       "      <td>[The, sea,, August,, interesting, and, simple,...</td>\n",
       "    </tr>\n",
       "    <tr>\n",
       "      <th>45299</th>\n",
       "      <td>63281</td>\n",
       "      <td>Pro Lyuboff</td>\n",
       "      <td>[У, девушки, Даши,, приехавшей, с, подругой, «...</td>\n",
       "    </tr>\n",
       "    <tr>\n",
       "      <th>45309</th>\n",
       "      <td>63898</td>\n",
       "      <td>Antidur</td>\n",
       "      <td>[Failing, to, complete, an, important, assignm...</td>\n",
       "    </tr>\n",
       "  </tbody>\n",
       "</table>\n",
       "<p>8880 rows × 3 columns</p>\n",
       "</div>"
      ],
      "text/plain": [
       "           id              title  \\\n",
       "0         862          Toy Story   \n",
       "1        8844            Jumanji   \n",
       "3       31357  Waiting to Exhale   \n",
       "5         949               Heat   \n",
       "6       11860            Sabrina   \n",
       "...       ...                ...   \n",
       "45290  293654    Corporate Event   \n",
       "45296  100152               Mars   \n",
       "45297   62757            Savages   \n",
       "45299   63281        Pro Lyuboff   \n",
       "45309   63898            Antidur   \n",
       "\n",
       "                                                    tags  \n",
       "0      [Led, by, Woody,, Andy's, toys, live, happily,...  \n",
       "1      [When, siblings, Judy, and, Peter, discover, a...  \n",
       "3      [Cheated, on,, mistreated, and, stepped, on,, ...  \n",
       "5      [Obsessive, master, thief,, Neil, McCauley, le...  \n",
       "6      [An, ugly, duckling, having, undergone, a, rem...  \n",
       "...                                                  ...  \n",
       "45290  [Igor,, a, furniture, store, manager,, tries, ...  \n",
       "45296  [Somewhere, deep,, deep, in, Russia, there, is...  \n",
       "45297  [The, sea,, August,, interesting, and, simple,...  \n",
       "45299  [У, девушки, Даши,, приехавшей, с, подругой, «...  \n",
       "45309  [Failing, to, complete, an, important, assignm...  \n",
       "\n",
       "[8880 rows x 3 columns]"
      ]
     },
     "execution_count": 70,
     "metadata": {},
     "output_type": "execute_result"
    }
   ],
   "source": [
    "new_df"
   ]
  },
  {
   "cell_type": "code",
   "execution_count": 71,
   "id": "2fd12135",
   "metadata": {},
   "outputs": [],
   "source": [
    "new_df.to_parquet('datasets/datasets_modelos/movies_model.parquet')\n",
    "new_df.to_pickle(\"datasets/datasets_modelos/movies_model.pickle\")\n",
    "new_df.to_csv(\"datasets/datasets_modelos/movies_model.csv\")"
   ]
  },
  {
   "cell_type": "code",
   "execution_count": 72,
   "id": "5ea3859d",
   "metadata": {},
   "outputs": [],
   "source": [
    "del df"
   ]
  },
  {
   "cell_type": "code",
   "execution_count": 73,
   "id": "d4a2afb2",
   "metadata": {},
   "outputs": [
    {
     "data": {
      "text/html": [
       "<div>\n",
       "<style scoped>\n",
       "    .dataframe tbody tr th:only-of-type {\n",
       "        vertical-align: middle;\n",
       "    }\n",
       "\n",
       "    .dataframe tbody tr th {\n",
       "        vertical-align: top;\n",
       "    }\n",
       "\n",
       "    .dataframe thead th {\n",
       "        text-align: right;\n",
       "    }\n",
       "</style>\n",
       "<table border=\"1\" class=\"dataframe\">\n",
       "  <thead>\n",
       "    <tr style=\"text-align: right;\">\n",
       "      <th></th>\n",
       "      <th>id</th>\n",
       "      <th>title</th>\n",
       "      <th>tags</th>\n",
       "    </tr>\n",
       "  </thead>\n",
       "  <tbody>\n",
       "    <tr>\n",
       "      <th>0</th>\n",
       "      <td>862</td>\n",
       "      <td>Toy Story</td>\n",
       "      <td>[Led, by, Woody,, Andy's, toys, live, happily,...</td>\n",
       "    </tr>\n",
       "    <tr>\n",
       "      <th>1</th>\n",
       "      <td>8844</td>\n",
       "      <td>Jumanji</td>\n",
       "      <td>[When, siblings, Judy, and, Peter, discover, a...</td>\n",
       "    </tr>\n",
       "    <tr>\n",
       "      <th>3</th>\n",
       "      <td>31357</td>\n",
       "      <td>Waiting to Exhale</td>\n",
       "      <td>[Cheated, on,, mistreated, and, stepped, on,, ...</td>\n",
       "    </tr>\n",
       "    <tr>\n",
       "      <th>5</th>\n",
       "      <td>949</td>\n",
       "      <td>Heat</td>\n",
       "      <td>[Obsessive, master, thief,, Neil, McCauley, le...</td>\n",
       "    </tr>\n",
       "    <tr>\n",
       "      <th>6</th>\n",
       "      <td>11860</td>\n",
       "      <td>Sabrina</td>\n",
       "      <td>[An, ugly, duckling, having, undergone, a, rem...</td>\n",
       "    </tr>\n",
       "  </tbody>\n",
       "</table>\n",
       "</div>"
      ],
      "text/plain": [
       "      id              title                                               tags\n",
       "0    862          Toy Story  [Led, by, Woody,, Andy's, toys, live, happily,...\n",
       "1   8844            Jumanji  [When, siblings, Judy, and, Peter, discover, a...\n",
       "3  31357  Waiting to Exhale  [Cheated, on,, mistreated, and, stepped, on,, ...\n",
       "5    949               Heat  [Obsessive, master, thief,, Neil, McCauley, le...\n",
       "6  11860            Sabrina  [An, ugly, duckling, having, undergone, a, rem..."
      ]
     },
     "execution_count": 73,
     "metadata": {},
     "output_type": "execute_result"
    }
   ],
   "source": [
    "new_df.head()\n",
    "# new_df.info()"
   ]
  },
  {
   "cell_type": "code",
   "execution_count": null,
   "id": "e3bbc1f4",
   "metadata": {},
   "outputs": [],
   "source": [
    "# new_df.to_parquet('movies.parquet')\n",
    "# new_df.to_pickle(\"movies.pickle\")\n",
    "# new_df.to_csv(\"movies_model.csv\")"
   ]
  },
  {
   "cell_type": "code",
   "execution_count": null,
   "id": "43d2d5bf",
   "metadata": {},
   "outputs": [],
   "source": [
    "new_df[\"tags\"] = new_df[\"tags\"].apply(lambda x: \" \".join(x)) # sale un warning"
   ]
  },
  {
   "cell_type": "code",
   "execution_count": null,
   "id": "dab47e11",
   "metadata": {},
   "outputs": [],
   "source": [
    "new_df[\"tags\"][0]"
   ]
  },
  {
   "cell_type": "code",
   "execution_count": null,
   "id": "eb37aa8a",
   "metadata": {},
   "outputs": [],
   "source": [
    "new_df[\"tags\"] = new_df[\"tags\"].apply(lambda x: x.lower()) # sale un warning"
   ]
  },
  {
   "cell_type": "code",
   "execution_count": null,
   "id": "c061588b",
   "metadata": {},
   "outputs": [],
   "source": [
    "new_df.head()"
   ]
  },
  {
   "cell_type": "code",
   "execution_count": null,
   "id": "ed218928",
   "metadata": {},
   "outputs": [],
   "source": [
    "# new_df[new_df[\"title\"] == \"Avatar\"]"
   ]
  },
  {
   "cell_type": "code",
   "execution_count": null,
   "id": "ab7bbcb8",
   "metadata": {},
   "outputs": [],
   "source": []
  },
  {
   "cell_type": "code",
   "execution_count": null,
   "id": "3e6dc57c",
   "metadata": {},
   "outputs": [],
   "source": []
  },
  {
   "cell_type": "code",
   "execution_count": null,
   "id": "5fdb3390",
   "metadata": {},
   "outputs": [],
   "source": [
    "# movies_model = pd.read_parquet(\"datasets/movies.parquet\")"
   ]
  },
  {
   "cell_type": "code",
   "execution_count": null,
   "id": "a369447a",
   "metadata": {},
   "outputs": [],
   "source": [
    "# movies_model.head(1)\n",
    "# movies_model.info()"
   ]
  },
  {
   "cell_type": "markdown",
   "id": "442dc126",
   "metadata": {},
   "source": [
    "**Creación del modelo**"
   ]
  },
  {
   "cell_type": "code",
   "execution_count": null,
   "id": "858f82b3",
   "metadata": {},
   "outputs": [],
   "source": [
    "from sklearn.feature_extraction.text import CountVectorizer"
   ]
  },
  {
   "cell_type": "code",
   "execution_count": null,
   "id": "6f7e6e5b",
   "metadata": {},
   "outputs": [],
   "source": [
    "cv = CountVectorizer(max_features=5000, stop_words=\"english\")"
   ]
  },
  {
   "cell_type": "code",
   "execution_count": null,
   "id": "71fc4b69",
   "metadata": {},
   "outputs": [],
   "source": [
    "# cv.fit_transform(movies_model[\"tags\"]).toarray()\n",
    "\n",
    "cv.fit_transform(new_df[\"tags\"]).toarray()\n",
    "cv.fit_transform(new_df[\"tags\"]).toarray().shape"
   ]
  },
  {
   "cell_type": "code",
   "execution_count": null,
   "id": "d2f4e657",
   "metadata": {},
   "outputs": [],
   "source": [
    "vectors = cv.fit_transform(new_df[\"tags\"]).toarray()"
   ]
  },
  {
   "cell_type": "code",
   "execution_count": null,
   "id": "f442c902",
   "metadata": {},
   "outputs": [],
   "source": [
    "# vectors\n",
    "vectors[0]"
   ]
  },
  {
   "cell_type": "code",
   "execution_count": null,
   "id": "b5d21ada",
   "metadata": {},
   "outputs": [],
   "source": [
    "cv.get_feature_names_out()\n",
    "# len(cv.get_feature_names_out())"
   ]
  },
  {
   "cell_type": "code",
   "execution_count": null,
   "id": "7d76ea25",
   "metadata": {},
   "outputs": [],
   "source": [
    "from nltk.stem.porter import PorterStemmer"
   ]
  },
  {
   "cell_type": "code",
   "execution_count": null,
   "id": "9af72042",
   "metadata": {},
   "outputs": [],
   "source": [
    "ps = PorterStemmer()"
   ]
  },
  {
   "cell_type": "code",
   "execution_count": null,
   "id": "3ea2c85a",
   "metadata": {},
   "outputs": [],
   "source": [
    "def stem(text):\n",
    "    y = []\n",
    "    \n",
    "    for i in text.split():\n",
    "        y.append(ps.stem(i))\n",
    "    \n",
    "    return \" \".join(y)"
   ]
  },
  {
   "cell_type": "code",
   "execution_count": null,
   "id": "b0780177",
   "metadata": {},
   "outputs": [],
   "source": [
    "# ps.stem(\"loving\")"
   ]
  },
  {
   "cell_type": "code",
   "execution_count": null,
   "id": "1b849e82",
   "metadata": {},
   "outputs": [],
   "source": [
    "#new_df[\"tags\"][0]"
   ]
  },
  {
   "cell_type": "code",
   "execution_count": null,
   "id": "9335ad7c",
   "metadata": {},
   "outputs": [],
   "source": [
    "# stem(\"led by woody, andy's toys live happily in his room until andy's birthday brings buzz lightyear onto the scene. afraid of losing his place in andy's heart, woody plots against buzz. but when circumstances separate buzz and woody from their owner, the duo eventually learns to put aside their differences. animation comedy family tomhanks timallen donrickles johnlasseter\")"
   ]
  },
  {
   "cell_type": "code",
   "execution_count": null,
   "id": "45cfb01d",
   "metadata": {},
   "outputs": [],
   "source": [
    "new_df[\"tags\"] = new_df[\"tags\"].apply(stem)"
   ]
  },
  {
   "cell_type": "code",
   "execution_count": null,
   "id": "0113b35e",
   "metadata": {},
   "outputs": [],
   "source": [
    "from sklearn.metrics.pairwise import cosine_similarity"
   ]
  },
  {
   "cell_type": "code",
   "execution_count": null,
   "id": "40879fdc",
   "metadata": {},
   "outputs": [],
   "source": [
    "cosine_similarity(vectors)"
   ]
  },
  {
   "cell_type": "code",
   "execution_count": null,
   "id": "7ee3d088",
   "metadata": {},
   "outputs": [],
   "source": [
    "cosine_similarity(vectors).shape"
   ]
  },
  {
   "cell_type": "code",
   "execution_count": null,
   "id": "3066dac9",
   "metadata": {},
   "outputs": [],
   "source": [
    "similarity = cosine_similarity(vectors)"
   ]
  },
  {
   "cell_type": "code",
   "execution_count": null,
   "id": "4cf2f221",
   "metadata": {},
   "outputs": [],
   "source": []
  },
  {
   "cell_type": "code",
   "execution_count": null,
   "id": "cc444af5",
   "metadata": {},
   "outputs": [],
   "source": []
  },
  {
   "cell_type": "code",
   "execution_count": null,
   "id": "27ac6ed1",
   "metadata": {},
   "outputs": [],
   "source": []
  },
  {
   "cell_type": "code",
   "execution_count": null,
   "id": "2b7e150f",
   "metadata": {},
   "outputs": [],
   "source": []
  },
  {
   "cell_type": "code",
   "execution_count": null,
   "id": "ba5bec8c",
   "metadata": {},
   "outputs": [],
   "source": []
  }
 ],
 "metadata": {
  "kernelspec": {
   "display_name": "Python 3 (ipykernel)",
   "language": "python",
   "name": "python3"
  },
  "language_info": {
   "codemirror_mode": {
    "name": "ipython",
    "version": 3
   },
   "file_extension": ".py",
   "mimetype": "text/x-python",
   "name": "python",
   "nbconvert_exporter": "python",
   "pygments_lexer": "ipython3",
   "version": "3.10.12"
  }
 },
 "nbformat": 4,
 "nbformat_minor": 5
}
