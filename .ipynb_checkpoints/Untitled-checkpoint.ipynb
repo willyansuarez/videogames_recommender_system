{
 "cells": [
  {
   "cell_type": "code",
   "execution_count": 2,
   "id": "1ac34d1f-bab8-4a42-8961-8fdd7a25f6bf",
   "metadata": {},
   "outputs": [],
   "source": [
    "import pandas as pd"
   ]
  },
  {
   "cell_type": "code",
   "execution_count": 32,
   "id": "c86f76ee-d491-4972-9a1f-c76fcc0a6a75",
   "metadata": {},
   "outputs": [],
   "source": [
    "# c = pd.read_parquet(\"datasets/df_games.parquet\")\n",
    "# df1 = pd.read_parquet(\"datasets/df_func_1.parquet\")\n",
    "df6 = pd.read_parquet(\"datasets/df_func_6.parquet\")"
   ]
  },
  {
   "cell_type": "code",
   "execution_count": 34,
   "id": "a2df5bef-2d00-4704-b6af-bb40fec96f86",
   "metadata": {},
   "outputs": [
    {
     "data": {
      "text/plain": [
       "(48852, 8)"
      ]
     },
     "execution_count": 34,
     "metadata": {},
     "output_type": "execute_result"
    }
   ],
   "source": [
    "df6.shape"
   ]
  },
  {
   "cell_type": "code",
   "execution_count": 10,
   "id": "901db3fb-7fdb-4a36-b866-f9917d0ee333",
   "metadata": {},
   "outputs": [
    {
     "data": {
      "text/plain": [
       "(1590013, 9)"
      ]
     },
     "execution_count": 10,
     "metadata": {},
     "output_type": "execute_result"
    }
   ],
   "source": [
    "df1.shape"
   ]
  },
  {
   "cell_type": "code",
   "execution_count": 23,
   "id": "b6d73771-6c9a-4f19-b035-4d8728e16a46",
   "metadata": {},
   "outputs": [],
   "source": [
    "df_func_1 = df1.sample(n=20000, random_state=42)"
   ]
  },
  {
   "cell_type": "code",
   "execution_count": 24,
   "id": "9710c24e-1bfb-49b7-9b26-46f2fb89ce52",
   "metadata": {},
   "outputs": [],
   "source": [
    "df_func_1.reset_index(drop=True, inplace=True)"
   ]
  },
  {
   "cell_type": "code",
   "execution_count": 26,
   "id": "b699fa5a-ec06-40f5-8e05-5c65047cb80f",
   "metadata": {},
   "outputs": [
    {
     "data": {
      "text/plain": [
       "(20000, 9)"
      ]
     },
     "execution_count": 26,
     "metadata": {},
     "output_type": "execute_result"
    }
   ],
   "source": [
    "df_func_1.head()\n",
    "df_func_1.shape"
   ]
  },
  {
   "cell_type": "code",
   "execution_count": 12,
   "id": "3c1b96be-881d-4df1-b782-7af834e1cf6b",
   "metadata": {},
   "outputs": [],
   "source": [
    "# df_games = c.sample(n=15000, random_state=42)"
   ]
  },
  {
   "cell_type": "code",
   "execution_count": 31,
   "id": "2bfde8ac-17c6-40ba-8e46-5b187fa1c7ae",
   "metadata": {},
   "outputs": [],
   "source": [
    "del df1"
   ]
  },
  {
   "cell_type": "code",
   "execution_count": 27,
   "id": "c13d2cd4-fe1f-4d6b-a01b-a6fd13321698",
   "metadata": {},
   "outputs": [],
   "source": [
    "df_func_1 = df_func_1.to_parquet(\"df_func_1.parquet\")"
   ]
  },
  {
   "cell_type": "code",
   "execution_count": null,
   "id": "630a7312-9d77-410e-b598-28f2a462aae2",
   "metadata": {},
   "outputs": [],
   "source": []
  }
 ],
 "metadata": {
  "kernelspec": {
   "display_name": "Python 3 (ipykernel)",
   "language": "python",
   "name": "python3"
  },
  "language_info": {
   "codemirror_mode": {
    "name": "ipython",
    "version": 3
   },
   "file_extension": ".py",
   "mimetype": "text/x-python",
   "name": "python",
   "nbconvert_exporter": "python",
   "pygments_lexer": "ipython3",
   "version": "3.10.12"
  }
 },
 "nbformat": 4,
 "nbformat_minor": 5
}
