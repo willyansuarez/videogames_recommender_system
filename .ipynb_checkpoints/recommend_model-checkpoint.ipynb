{
 "cells": [
  {
   "cell_type": "code",
   "execution_count": 1,
   "id": "e8dbb79a",
   "metadata": {},
   "outputs": [],
   "source": [
    "# carga de librerías\n",
    "from sklearn.feature_extraction.text import CountVectorizer\n",
    "from nltk.stem.porter import PorterStemmer\n",
    "from sklearn.metrics.pairwise import cosine_similarity\n",
    "import pandas as pd"
   ]
  },
  {
   "cell_type": "code",
   "execution_count": 2,
   "id": "50ca025a",
   "metadata": {},
   "outputs": [],
   "source": [
    "# carga del dataset procesado\n",
    "new_df = pd.read_parquet(\"datasets/movies_model.parquet\")"
   ]
  },
  {
   "cell_type": "code",
   "execution_count": 3,
   "id": "3be09168",
   "metadata": {},
   "outputs": [
    {
     "data": {
      "text/html": [
       "<div>\n",
       "<style scoped>\n",
       "    .dataframe tbody tr th:only-of-type {\n",
       "        vertical-align: middle;\n",
       "    }\n",
       "\n",
       "    .dataframe tbody tr th {\n",
       "        vertical-align: top;\n",
       "    }\n",
       "\n",
       "    .dataframe thead th {\n",
       "        text-align: right;\n",
       "    }\n",
       "</style>\n",
       "<table border=\"1\" class=\"dataframe\">\n",
       "  <thead>\n",
       "    <tr style=\"text-align: right;\">\n",
       "      <th></th>\n",
       "      <th>id</th>\n",
       "      <th>title</th>\n",
       "      <th>tags</th>\n",
       "    </tr>\n",
       "  </thead>\n",
       "  <tbody>\n",
       "    <tr>\n",
       "      <th>0</th>\n",
       "      <td>862</td>\n",
       "      <td>Toy Story</td>\n",
       "      <td>[Led, by, Woody,, Andy's, toys, live, happily,...</td>\n",
       "    </tr>\n",
       "    <tr>\n",
       "      <th>1</th>\n",
       "      <td>8844</td>\n",
       "      <td>Jumanji</td>\n",
       "      <td>[When, siblings, Judy, and, Peter, discover, a...</td>\n",
       "    </tr>\n",
       "    <tr>\n",
       "      <th>3</th>\n",
       "      <td>31357</td>\n",
       "      <td>Waiting to Exhale</td>\n",
       "      <td>[Cheated, on,, mistreated, and, stepped, on,, ...</td>\n",
       "    </tr>\n",
       "    <tr>\n",
       "      <th>5</th>\n",
       "      <td>949</td>\n",
       "      <td>Heat</td>\n",
       "      <td>[Obsessive, master, thief,, Neil, McCauley, le...</td>\n",
       "    </tr>\n",
       "    <tr>\n",
       "      <th>6</th>\n",
       "      <td>11860</td>\n",
       "      <td>Sabrina</td>\n",
       "      <td>[An, ugly, duckling, having, undergone, a, rem...</td>\n",
       "    </tr>\n",
       "  </tbody>\n",
       "</table>\n",
       "</div>"
      ],
      "text/plain": [
       "      id              title                                               tags\n",
       "0    862          Toy Story  [Led, by, Woody,, Andy's, toys, live, happily,...\n",
       "1   8844            Jumanji  [When, siblings, Judy, and, Peter, discover, a...\n",
       "3  31357  Waiting to Exhale  [Cheated, on,, mistreated, and, stepped, on,, ...\n",
       "5    949               Heat  [Obsessive, master, thief,, Neil, McCauley, le...\n",
       "6  11860            Sabrina  [An, ugly, duckling, having, undergone, a, rem..."
      ]
     },
     "execution_count": 3,
     "metadata": {},
     "output_type": "execute_result"
    }
   ],
   "source": [
    "# visualización rápida\n",
    "new_df.head()"
   ]
  },
  {
   "cell_type": "code",
   "execution_count": 4,
   "id": "ef73e529",
   "metadata": {},
   "outputs": [
    {
     "data": {
      "text/html": [
       "<div>\n",
       "<style scoped>\n",
       "    .dataframe tbody tr th:only-of-type {\n",
       "        vertical-align: middle;\n",
       "    }\n",
       "\n",
       "    .dataframe tbody tr th {\n",
       "        vertical-align: top;\n",
       "    }\n",
       "\n",
       "    .dataframe thead th {\n",
       "        text-align: right;\n",
       "    }\n",
       "</style>\n",
       "<table border=\"1\" class=\"dataframe\">\n",
       "  <thead>\n",
       "    <tr style=\"text-align: right;\">\n",
       "      <th></th>\n",
       "      <th>id</th>\n",
       "      <th>title</th>\n",
       "      <th>tags</th>\n",
       "    </tr>\n",
       "  </thead>\n",
       "  <tbody>\n",
       "    <tr>\n",
       "      <th>0</th>\n",
       "      <td>862</td>\n",
       "      <td>Toy Story</td>\n",
       "      <td>[Led, by, Woody,, Andy's, toys, live, happily,...</td>\n",
       "    </tr>\n",
       "    <tr>\n",
       "      <th>1</th>\n",
       "      <td>8844</td>\n",
       "      <td>Jumanji</td>\n",
       "      <td>[When, siblings, Judy, and, Peter, discover, a...</td>\n",
       "    </tr>\n",
       "    <tr>\n",
       "      <th>2</th>\n",
       "      <td>31357</td>\n",
       "      <td>Waiting to Exhale</td>\n",
       "      <td>[Cheated, on,, mistreated, and, stepped, on,, ...</td>\n",
       "    </tr>\n",
       "    <tr>\n",
       "      <th>3</th>\n",
       "      <td>949</td>\n",
       "      <td>Heat</td>\n",
       "      <td>[Obsessive, master, thief,, Neil, McCauley, le...</td>\n",
       "    </tr>\n",
       "    <tr>\n",
       "      <th>4</th>\n",
       "      <td>11860</td>\n",
       "      <td>Sabrina</td>\n",
       "      <td>[An, ugly, duckling, having, undergone, a, rem...</td>\n",
       "    </tr>\n",
       "  </tbody>\n",
       "</table>\n",
       "</div>"
      ],
      "text/plain": [
       "      id              title                                               tags\n",
       "0    862          Toy Story  [Led, by, Woody,, Andy's, toys, live, happily,...\n",
       "1   8844            Jumanji  [When, siblings, Judy, and, Peter, discover, a...\n",
       "2  31357  Waiting to Exhale  [Cheated, on,, mistreated, and, stepped, on,, ...\n",
       "3    949               Heat  [Obsessive, master, thief,, Neil, McCauley, le...\n",
       "4  11860            Sabrina  [An, ugly, duckling, having, undergone, a, rem..."
      ]
     },
     "execution_count": 4,
     "metadata": {},
     "output_type": "execute_result"
    }
   ],
   "source": [
    "# arreglo de los índices\n",
    "new_df = new_df.reset_index(drop=True)\n",
    "new_df.head()"
   ]
  },
  {
   "cell_type": "code",
   "execution_count": 5,
   "id": "83979974",
   "metadata": {},
   "outputs": [
    {
     "data": {
      "text/plain": [
       "array(['Led', 'by', 'Woody,', \"Andy's\", 'toys', 'live', 'happily', 'in',\n",
       "       'his', 'room', 'until', \"Andy's\", 'birthday', 'brings', 'Buzz',\n",
       "       'Lightyear', 'onto', 'the', 'scene.', 'Afraid', 'of', 'losing',\n",
       "       'his', 'place', 'in', \"Andy's\", 'heart,', 'Woody', 'plots',\n",
       "       'against', 'Buzz.', 'But', 'when', 'circumstances', 'separate',\n",
       "       'Buzz', 'and', 'Woody', 'from', 'their', 'owner,', 'the', 'duo',\n",
       "       'eventually', 'learns', 'to', 'put', 'aside', 'their',\n",
       "       'differences.', 'Animation', 'Comedy', 'Family', 'TomHanks',\n",
       "       'TimAllen', 'DonRickles', 'JohnLasseter'], dtype=object)"
      ]
     },
     "execution_count": 5,
     "metadata": {},
     "output_type": "execute_result"
    }
   ],
   "source": [
    "# visualización columna tags\n",
    "new_df[\"tags\"][0]"
   ]
  },
  {
   "cell_type": "code",
   "execution_count": 6,
   "id": "366e7ae4",
   "metadata": {},
   "outputs": [],
   "source": [
    "# unir en cadenas separadas por espacios\n",
    "new_df[\"tags\"] = new_df[\"tags\"].apply(lambda x: \" \".join(x))"
   ]
  },
  {
   "cell_type": "code",
   "execution_count": 7,
   "id": "86cea09c",
   "metadata": {},
   "outputs": [
    {
     "data": {
      "text/plain": [
       "\"Led by Woody, Andy's toys live happily in his room until Andy's birthday brings Buzz Lightyear onto the scene. Afraid of losing his place in Andy's heart, Woody plots against Buzz. But when circumstances separate Buzz and Woody from their owner, the duo eventually learns to put aside their differences. Animation Comedy Family TomHanks TimAllen DonRickles JohnLasseter\""
      ]
     },
     "execution_count": 7,
     "metadata": {},
     "output_type": "execute_result"
    }
   ],
   "source": [
    "# visualizar resultado\n",
    "new_df[\"tags\"][0]"
   ]
  },
  {
   "cell_type": "code",
   "execution_count": 8,
   "id": "fecbc2b4",
   "metadata": {},
   "outputs": [],
   "source": [
    "# pasar todo a minúsculas\n",
    "new_df[\"tags\"] = new_df[\"tags\"].apply(lambda x: x.lower()) # sale un warning"
   ]
  },
  {
   "cell_type": "code",
   "execution_count": 9,
   "id": "c2817e1d",
   "metadata": {},
   "outputs": [
    {
     "data": {
      "text/plain": [
       "\"led by woody, andy's toys live happily in his room until andy's birthday brings buzz lightyear onto the scene. afraid of losing his place in andy's heart, woody plots against buzz. but when circumstances separate buzz and woody from their owner, the duo eventually learns to put aside their differences. animation comedy family tomhanks timallen donrickles johnlasseter\""
      ]
     },
     "execution_count": 9,
     "metadata": {},
     "output_type": "execute_result"
    }
   ],
   "source": [
    "# visualizar resultado\n",
    "new_df[\"tags\"][0]"
   ]
  },
  {
   "cell_type": "markdown",
   "id": "d02d53e7",
   "metadata": {},
   "source": [
    "Creamos un objeto CountVectorizer con las siguientes configuraciones:  \n",
    "* max_features=5000: número máximo de características\n",
    "* stop_words=\"english\": palabras que se deben eliminar del texto.significativa.  \n",
    "\n",
    "Que utilizaremos para convertir un conjunto de texto en un conjunto de vectores. Cada vector representa la  frecuencia de cada característica en el texto."
   ]
  },
  {
   "cell_type": "code",
   "execution_count": 7,
   "id": "9c85bf44",
   "metadata": {},
   "outputs": [],
   "source": [
    "cv = CountVectorizer(max_features=5000, stop_words=\"english\")"
   ]
  },
  {
   "cell_type": "markdown",
   "id": "af62626d",
   "metadata": {},
   "source": [
    "**Devolvemos el conjunto de vectores como una matriz.**"
   ]
  },
  {
   "cell_type": "code",
   "execution_count": 9,
   "id": "687b62b6",
   "metadata": {},
   "outputs": [],
   "source": [
    "vectors = cv.fit_transform(new_df[\"tags\"]).toarray()"
   ]
  },
  {
   "cell_type": "markdown",
   "id": "abc78bc6",
   "metadata": {},
   "source": [
    "**Creamos un objeto PorterStemmer que utilizaremos para reducir las palabras a su raíz.**"
   ]
  },
  {
   "cell_type": "code",
   "execution_count": 10,
   "id": "f6fbd20d",
   "metadata": {},
   "outputs": [],
   "source": [
    "ps = PorterStemmer()"
   ]
  },
  {
   "cell_type": "markdown",
   "id": "ed6a8ecf",
   "metadata": {},
   "source": [
    "**Creamos una función que realizará estos pasos:**  \n",
    "1. Divide el texto en palabras individuales.\n",
    "2. Aplica el algoritmo de stemming de Porter a cada palabra individual.\n",
    "3. Une las palabras individuales en una cadena de texto."
   ]
  },
  {
   "cell_type": "code",
   "execution_count": 11,
   "id": "0ae6ca73",
   "metadata": {},
   "outputs": [],
   "source": [
    "def stem(text):\n",
    "    y = []\n",
    "    \n",
    "    for i in text.split():\n",
    "        y.append(ps.stem(i))\n",
    "    \n",
    "    return \" \".join(y)"
   ]
  },
  {
   "cell_type": "markdown",
   "id": "81694b71",
   "metadata": {},
   "source": [
    "**Aplicamos la función a la columna tags**"
   ]
  },
  {
   "cell_type": "code",
   "execution_count": 12,
   "id": "01bcebe6",
   "metadata": {},
   "outputs": [],
   "source": [
    "new_df[\"tags\"] = new_df[\"tags\"].apply(stem)"
   ]
  },
  {
   "cell_type": "markdown",
   "id": "9dea7243",
   "metadata": {},
   "source": [
    "**Calculamos la similitud coseno entre los vectores en la matriz** "
   ]
  },
  {
   "cell_type": "code",
   "execution_count": 13,
   "id": "03e755ea",
   "metadata": {},
   "outputs": [],
   "source": [
    "similarity = cosine_similarity(vectors)"
   ]
  },
  {
   "cell_type": "markdown",
   "id": "45eec461",
   "metadata": {},
   "source": [
    "**Creamos la función recomendadora**"
   ]
  },
  {
   "cell_type": "code",
   "execution_count": 16,
   "id": "add74c7c",
   "metadata": {},
   "outputs": [],
   "source": [
    "# función recomendadora\n",
    "def recommend(movie):\n",
    "    movie_index = new_df[new_df[\"title\"] == movie].index[0]\n",
    "    distances = similarity[movie_index]\n",
    "    movie_list = sorted(list(enumerate(distances)), reverse=True, key=lambda x: x[1])[1:6]\n",
    "    \n",
    "    pel = []\n",
    "    for i in movie_list:\n",
    "        list_pel = {new_df.iloc[i[0]].title}\n",
    "        pel.append(list_pel)\n",
    "        # print(i[0])\n",
    "    return pel"
   ]
  },
  {
   "cell_type": "code",
   "execution_count": 17,
   "id": "c066c3ee",
   "metadata": {},
   "outputs": [
    {
     "data": {
      "text/plain": [
       "['Lethal Weapon 2',\n",
       " 'Lethal Weapon 4',\n",
       " 'Vares - The Kiss of Evil',\n",
       " \"The Hunter's Prayer\",\n",
       " 'Shaft in Africa']"
      ]
     },
     "execution_count": 17,
     "metadata": {},
     "output_type": "execute_result"
    }
   ],
   "source": [
    "# prueba de la función\n",
    "recommend(\"Lethal Weapon\")"
   ]
  }
 ],
 "metadata": {
  "kernelspec": {
   "display_name": "Python 3 (ipykernel)",
   "language": "python",
   "name": "python3"
  },
  "language_info": {
   "codemirror_mode": {
    "name": "ipython",
    "version": 3
   },
   "file_extension": ".py",
   "mimetype": "text/x-python",
   "name": "python",
   "nbconvert_exporter": "python",
   "pygments_lexer": "ipython3",
   "version": "3.10.12"
  }
 },
 "nbformat": 4,
 "nbformat_minor": 5
}
