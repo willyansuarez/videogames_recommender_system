{
 "cells": [
  {
   "cell_type": "markdown",
   "metadata": {
    "id": "ZHGO3RRRV89V"
   },
   "source": [
    "# Modelo de recomendacion"
   ]
  },
  {
   "cell_type": "code",
   "execution_count": 1,
   "metadata": {
    "id": "_4mAdru8WI3p"
   },
   "outputs": [],
   "source": [
    "# importar librerías\n",
    "from sklearn.feature_extraction.text import CountVectorizer\n",
    "from nltk.stem.porter import PorterStemmer\n",
    "from sklearn.metrics.pairwise import cosine_similarity\n",
    "import pandas as pd"
   ]
  },
  {
   "cell_type": "code",
   "execution_count": 2,
   "metadata": {
    "id": "k0UDVVYrWz9F"
   },
   "outputs": [],
   "source": [
    "df_model_recommend = pd.read_parquet(\"datasets/df_model_recommend.parquet\")"
   ]
  },
  {
   "cell_type": "code",
   "execution_count": 3,
   "metadata": {
    "colab": {
     "base_uri": "https://localhost:8080/"
    },
    "id": "Piv_6yNuXcpF",
    "outputId": "84cb006b-273f-4e0a-a560-f938546fbb54"
   },
   "outputs": [
    {
     "data": {
      "text/plain": [
       "app_name     object\n",
       "id          float64\n",
       "tags_2       object\n",
       "dtype: object"
      ]
     },
     "execution_count": 3,
     "metadata": {},
     "output_type": "execute_result"
    }
   ],
   "source": [
    "df_model_recommend.dtypes"
   ]
  },
  {
   "cell_type": "code",
   "execution_count": 7,
   "metadata": {
    "id": "tjIJ2kxnXvP2"
   },
   "outputs": [],
   "source": [
    "df_model_recommend['id'] = df_model_recommend['id'].astype(int)"
   ]
  },
  {
   "cell_type": "code",
   "execution_count": 6,
   "metadata": {
    "colab": {
     "base_uri": "https://localhost:8080/"
    },
    "id": "qw79WhhHX81V",
    "outputId": "f8c4a802-7786-46b4-dd33-f29ed089a171"
   },
   "outputs": [
    {
     "data": {
      "text/plain": [
       "0                 Lost Summoner Kitty\n",
       "1                           Ironbound\n",
       "2             Real Pool 3D - Poolians\n",
       "3               Battle Royale Trainer\n",
       "4        SNOW - All Access Basic Pass\n",
       "                     ...             \n",
       "25535                    Kebab it Up!\n",
       "25536                  Colony On Mars\n",
       "25537        LOGistICAL: South Africa\n",
       "25538                   Russian Roads\n",
       "25539             EXIT 2 - Directions\n",
       "Name: app_name, Length: 25540, dtype: object"
      ]
     },
     "execution_count": 6,
     "metadata": {},
     "output_type": "execute_result"
    }
   ],
   "source": [
    "df_model_recommend.head()\n",
    "df_model_recommend[\"app_name\"]"
   ]
  },
  {
   "cell_type": "code",
   "execution_count": 6,
   "metadata": {
    "id": "DJ5bo2EkYB73"
   },
   "outputs": [],
   "source": [
    "# unir en cadenas separadas por espacios\n",
    "df_model_recommend[\"tags_2\"] = df_model_recommend[\"tags_2\"].apply(lambda x: \" \".join(x))"
   ]
  },
  {
   "cell_type": "code",
   "execution_count": 7,
   "metadata": {
    "id": "M7OOZ-2bYh8n"
   },
   "outputs": [],
   "source": [
    "# pasar todo a minúsculas\n",
    "df_model_recommend[\"tags_2\"] = df_model_recommend[\"tags_2\"].apply(lambda x: x.lower()) # sale un warning"
   ]
  },
  {
   "cell_type": "markdown",
   "metadata": {},
   "source": [
    "Creamos un objeto CountVectorizer con las siguientes configuraciones:  \n",
    "* max_features=5000: número máximo de características\n",
    "* stop_words=\"english\": palabras que se deben eliminar del texto.significativa.  \n",
    "\n",
    "Que utilizaremos para convertir un conjunto de texto en un conjunto de vectores. Cada vector representa la  frecuencia de cada característica en el texto."
   ]
  },
  {
   "cell_type": "code",
   "execution_count": 8,
   "metadata": {
    "id": "XoA3qCRBZTe9"
   },
   "outputs": [],
   "source": [
    "cv = CountVectorizer(max_features=5000, stop_words=\"english\")"
   ]
  },
  {
   "cell_type": "markdown",
   "metadata": {},
   "source": [
    "**Devolvemos el conjunto de vectores como una matriz.**"
   ]
  },
  {
   "cell_type": "code",
   "execution_count": 9,
   "metadata": {
    "id": "687b62b6"
   },
   "outputs": [],
   "source": [
    "vectors = cv.fit_transform(df_model_recommend[\"tags_2\"]).toarray()"
   ]
  },
  {
   "cell_type": "markdown",
   "metadata": {},
   "source": [
    "**Creamos un objeto PorterStemmer que utilizaremos para reducir las palabras a su raíz.**"
   ]
  },
  {
   "cell_type": "code",
   "execution_count": 10,
   "metadata": {
    "id": "f6fbd20d"
   },
   "outputs": [],
   "source": [
    "ps = PorterStemmer()"
   ]
  },
  {
   "cell_type": "markdown",
   "metadata": {},
   "source": [
    "**Creamos una función que realizará estos pasos:**  \n",
    "1. Divide el texto en palabras individuales.\n",
    "2. Aplica el algoritmo de stemming de Porter a cada palabra individual.\n",
    "3. Une las palabras individuales en una cadena de texto."
   ]
  },
  {
   "cell_type": "code",
   "execution_count": 11,
   "metadata": {
    "id": "0ae6ca73"
   },
   "outputs": [],
   "source": [
    "def stem(text):\n",
    "    y = []\n",
    "\n",
    "    for i in text.split():\n",
    "        y.append(ps.stem(i))\n",
    "\n",
    "    return \" \".join(y)"
   ]
  },
  {
   "cell_type": "markdown",
   "metadata": {},
   "source": [
    "**Aplicamos la función a la columna tags_2**"
   ]
  },
  {
   "cell_type": "code",
   "execution_count": 12,
   "metadata": {
    "id": "01bcebe6"
   },
   "outputs": [],
   "source": [
    "df_model_recommend[\"tags_2\"] = df_model_recommend[\"tags_2\"].apply(stem)"
   ]
  },
  {
   "cell_type": "markdown",
   "metadata": {},
   "source": [
    "**Calculamos la similitud coseno entre los vectores en la matriz**"
   ]
  },
  {
   "cell_type": "code",
   "execution_count": 13,
   "metadata": {
    "id": "03e755ea"
   },
   "outputs": [],
   "source": [
    "similarity = cosine_similarity(vectors)"
   ]
  },
  {
   "cell_type": "markdown",
   "metadata": {},
   "source": [
    "**Creamos la función recomendadora**"
   ]
  },
  {
   "cell_type": "code",
   "execution_count": 14,
   "metadata": {
    "id": "add74c7c"
   },
   "outputs": [],
   "source": [
    "# función recomendadora\n",
    "def recommend(game):\n",
    "    game_index = df_model_recommend[df_model_recommend[\"app_name\"] == game].index[0]\n",
    "    distances = similarity[game_index]\n",
    "    game_list = sorted(list(enumerate(distances)), reverse=True, key=lambda x: x[1])[1:6]\n",
    "\n",
    "    game_l = []\n",
    "    for i in game_list:\n",
    "        list_g = {df_model_recommend.iloc[i[0]].app_name}\n",
    "        game_l.append(list_g)\n",
    "        # print(i[0])\n",
    "    return game_l"
   ]
  },
  {
   "cell_type": "code",
   "execution_count": 15,
   "metadata": {
    "colab": {
     "base_uri": "https://localhost:8080/"
    },
    "id": "c066c3ee",
    "outputId": "717623db-4b04-426a-beda-b67c6c49417c"
   },
   "outputs": [
    {
     "data": {
      "text/plain": [
       "[{'Half-Life: Opposing Force'},\n",
       " {'Half-Life: Source'},\n",
       " {'Half-Life 2: Episode One'},\n",
       " {'Half-Life 2'},\n",
       " {'Unreal 2: The Awakening'}]"
      ]
     },
     "execution_count": 15,
     "metadata": {},
     "output_type": "execute_result"
    }
   ],
   "source": [
    "# prueba de la función\n",
    "recommend(\"Half-Life: Blue Shift\")"
   ]
  }
 ],
 "metadata": {
  "colab": {
   "provenance": []
  },
  "kernelspec": {
   "display_name": "Python 3 (ipykernel)",
   "language": "python",
   "name": "python3"
  },
  "language_info": {
   "codemirror_mode": {
    "name": "ipython",
    "version": 3
   },
   "file_extension": ".py",
   "mimetype": "text/x-python",
   "name": "python",
   "nbconvert_exporter": "python",
   "pygments_lexer": "ipython3",
   "version": "3.10.12"
  }
 },
 "nbformat": 4,
 "nbformat_minor": 4
}
